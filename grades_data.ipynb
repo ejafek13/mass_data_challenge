{
 "cells": [
  {
   "cell_type": "code",
   "execution_count": 1,
   "metadata": {
    "ExecuteTime": {
     "end_time": "2020-08-12T13:43:15.778691Z",
     "start_time": "2020-08-12T13:43:14.360377Z"
    }
   },
   "outputs": [],
   "source": [
    "import numpy as np\n",
    "import pandas as pd\n",
    "import matplotlib.pyplot as plt\n",
    "import seaborn as sns\n",
    "from datetime import datetime\n",
    "\n",
    "%matplotlib inline"
   ]
  },
  {
   "cell_type": "code",
   "execution_count": 2,
   "metadata": {
    "ExecuteTime": {
     "end_time": "2020-08-12T13:43:15.907917Z",
     "start_time": "2020-08-12T13:43:15.780995Z"
    }
   },
   "outputs": [],
   "source": [
    "grades = pd.read_csv(\"./data/food+establishment+grades.csv\")"
   ]
  },
  {
   "cell_type": "markdown",
   "metadata": {},
   "source": [
    "# Getting a general sense of the food establishment grades data"
   ]
  },
  {
   "cell_type": "code",
   "execution_count": 3,
   "metadata": {
    "ExecuteTime": {
     "end_time": "2020-08-12T13:43:15.931842Z",
     "start_time": "2020-08-12T13:43:15.911278Z"
    }
   },
   "outputs": [
    {
     "data": {
      "text/html": [
       "<div>\n",
       "<style scoped>\n",
       "    .dataframe tbody tr th:only-of-type {\n",
       "        vertical-align: middle;\n",
       "    }\n",
       "\n",
       "    .dataframe tbody tr th {\n",
       "        vertical-align: top;\n",
       "    }\n",
       "\n",
       "    .dataframe thead th {\n",
       "        text-align: right;\n",
       "    }\n",
       "</style>\n",
       "<table border=\"1\" class=\"dataframe\">\n",
       "  <thead>\n",
       "    <tr style=\"text-align: right;\">\n",
       "      <th></th>\n",
       "      <th>LICENSENO</th>\n",
       "      <th>ISSDTTM</th>\n",
       "      <th>EXPDTTM</th>\n",
       "      <th>LICSTATUS</th>\n",
       "      <th>LICENSECAT</th>\n",
       "      <th>DESCRIPT</th>\n",
       "      <th>RESULT</th>\n",
       "      <th>RESULTDTTM</th>\n",
       "      <th>SUM_VIOLATIONS</th>\n",
       "      <th>SCORE</th>\n",
       "      <th>GRADE</th>\n",
       "    </tr>\n",
       "  </thead>\n",
       "  <tbody>\n",
       "    <tr>\n",
       "      <th>0</th>\n",
       "      <td>77958</td>\n",
       "      <td>3/14/2012 9:17</td>\n",
       "      <td>12/31/2012 23:59</td>\n",
       "      <td>Inactive</td>\n",
       "      <td>FT</td>\n",
       "      <td>Eating &amp; Drinking w/ Take Out</td>\n",
       "      <td>HE_Pass</td>\n",
       "      <td>1/3/2012 7:26</td>\n",
       "      <td>0</td>\n",
       "      <td>100</td>\n",
       "      <td>A</td>\n",
       "    </tr>\n",
       "    <tr>\n",
       "      <th>1</th>\n",
       "      <td>74470</td>\n",
       "      <td>2/1/2012 12:29</td>\n",
       "      <td>12/31/2018 23:59</td>\n",
       "      <td>Active</td>\n",
       "      <td>FS</td>\n",
       "      <td>Eating &amp; Drinking</td>\n",
       "      <td>HE_Filed</td>\n",
       "      <td>1/3/2012 9:42</td>\n",
       "      <td>6</td>\n",
       "      <td>94</td>\n",
       "      <td>A</td>\n",
       "    </tr>\n",
       "    <tr>\n",
       "      <th>2</th>\n",
       "      <td>18086</td>\n",
       "      <td>12/27/2011 12:46</td>\n",
       "      <td>12/31/2011 23:59</td>\n",
       "      <td>Inactive</td>\n",
       "      <td>RF</td>\n",
       "      <td>Retail Food</td>\n",
       "      <td>HE_Fail</td>\n",
       "      <td>1/3/2012 10:06</td>\n",
       "      <td>6</td>\n",
       "      <td>94</td>\n",
       "      <td>A</td>\n",
       "    </tr>\n",
       "    <tr>\n",
       "      <th>3</th>\n",
       "      <td>77035</td>\n",
       "      <td>1/26/2012 11:01</td>\n",
       "      <td>12/31/2018 23:59</td>\n",
       "      <td>Active</td>\n",
       "      <td>RF</td>\n",
       "      <td>Retail Food</td>\n",
       "      <td>HE_FailExt</td>\n",
       "      <td>1/3/2012 10:07</td>\n",
       "      <td>12</td>\n",
       "      <td>88</td>\n",
       "      <td>B</td>\n",
       "    </tr>\n",
       "    <tr>\n",
       "      <th>4</th>\n",
       "      <td>20285</td>\n",
       "      <td>2/24/2012 14:46</td>\n",
       "      <td>12/31/2018 23:59</td>\n",
       "      <td>Active</td>\n",
       "      <td>FS</td>\n",
       "      <td>Eating &amp; Drinking</td>\n",
       "      <td>HE_Filed</td>\n",
       "      <td>1/3/2012 10:32</td>\n",
       "      <td>2</td>\n",
       "      <td>98</td>\n",
       "      <td>A</td>\n",
       "    </tr>\n",
       "  </tbody>\n",
       "</table>\n",
       "</div>"
      ],
      "text/plain": [
       "   LICENSENO           ISSDTTM           EXPDTTM LICSTATUS LICENSECAT  \\\n",
       "0      77958    3/14/2012 9:17  12/31/2012 23:59  Inactive         FT   \n",
       "1      74470    2/1/2012 12:29  12/31/2018 23:59    Active         FS   \n",
       "2      18086  12/27/2011 12:46  12/31/2011 23:59  Inactive         RF   \n",
       "3      77035   1/26/2012 11:01  12/31/2018 23:59    Active         RF   \n",
       "4      20285   2/24/2012 14:46  12/31/2018 23:59    Active         FS   \n",
       "\n",
       "                        DESCRIPT      RESULT      RESULTDTTM  SUM_VIOLATIONS  \\\n",
       "0  Eating & Drinking w/ Take Out     HE_Pass   1/3/2012 7:26               0   \n",
       "1              Eating & Drinking    HE_Filed   1/3/2012 9:42               6   \n",
       "2                    Retail Food     HE_Fail  1/3/2012 10:06               6   \n",
       "3                    Retail Food  HE_FailExt  1/3/2012 10:07              12   \n",
       "4              Eating & Drinking    HE_Filed  1/3/2012 10:32               2   \n",
       "\n",
       "   SCORE GRADE  \n",
       "0    100     A  \n",
       "1     94     A  \n",
       "2     94     A  \n",
       "3     88     B  \n",
       "4     98     A  "
      ]
     },
     "execution_count": 3,
     "metadata": {},
     "output_type": "execute_result"
    }
   ],
   "source": [
    "grades.head()"
   ]
  },
  {
   "cell_type": "code",
   "execution_count": 4,
   "metadata": {
    "ExecuteTime": {
     "end_time": "2020-08-12T13:43:15.941515Z",
     "start_time": "2020-08-12T13:43:15.934180Z"
    }
   },
   "outputs": [],
   "source": [
    "grades.rename(str.lower, axis = \"columns\", inplace = True)"
   ]
  },
  {
   "cell_type": "code",
   "execution_count": 5,
   "metadata": {
    "ExecuteTime": {
     "end_time": "2020-08-12T13:43:15.970437Z",
     "start_time": "2020-08-12T13:43:15.943171Z"
    }
   },
   "outputs": [
    {
     "name": "stdout",
     "output_type": "stream",
     "text": [
      "<class 'pandas.core.frame.DataFrame'>\n",
      "RangeIndex: 72243 entries, 0 to 72242\n",
      "Data columns (total 11 columns):\n",
      "licenseno         72243 non-null int64\n",
      "issdttm           72243 non-null object\n",
      "expdttm           72243 non-null object\n",
      "licstatus         72243 non-null object\n",
      "licensecat        72243 non-null object\n",
      "descript          72243 non-null object\n",
      "result            72243 non-null object\n",
      "resultdttm        72243 non-null object\n",
      "sum_violations    72243 non-null int64\n",
      "score             72243 non-null int64\n",
      "grade             72243 non-null object\n",
      "dtypes: int64(3), object(8)\n",
      "memory usage: 6.1+ MB\n"
     ]
    }
   ],
   "source": [
    "grades.info()"
   ]
  },
  {
   "cell_type": "code",
   "execution_count": 6,
   "metadata": {
    "ExecuteTime": {
     "end_time": "2020-08-12T13:43:15.997906Z",
     "start_time": "2020-08-12T13:43:15.972773Z"
    }
   },
   "outputs": [
    {
     "data": {
      "text/html": [
       "<div>\n",
       "<style scoped>\n",
       "    .dataframe tbody tr th:only-of-type {\n",
       "        vertical-align: middle;\n",
       "    }\n",
       "\n",
       "    .dataframe tbody tr th {\n",
       "        vertical-align: top;\n",
       "    }\n",
       "\n",
       "    .dataframe thead th {\n",
       "        text-align: right;\n",
       "    }\n",
       "</style>\n",
       "<table border=\"1\" class=\"dataframe\">\n",
       "  <thead>\n",
       "    <tr style=\"text-align: right;\">\n",
       "      <th></th>\n",
       "      <th>licenseno</th>\n",
       "      <th>sum_violations</th>\n",
       "      <th>score</th>\n",
       "    </tr>\n",
       "  </thead>\n",
       "  <tbody>\n",
       "    <tr>\n",
       "      <th>count</th>\n",
       "      <td>72243.000000</td>\n",
       "      <td>72243.000000</td>\n",
       "      <td>72243.000000</td>\n",
       "    </tr>\n",
       "    <tr>\n",
       "      <th>mean</th>\n",
       "      <td>58498.182108</td>\n",
       "      <td>8.642346</td>\n",
       "      <td>91.357654</td>\n",
       "    </tr>\n",
       "    <tr>\n",
       "      <th>std</th>\n",
       "      <td>59463.612719</td>\n",
       "      <td>15.921356</td>\n",
       "      <td>15.921356</td>\n",
       "    </tr>\n",
       "    <tr>\n",
       "      <th>min</th>\n",
       "      <td>54.000000</td>\n",
       "      <td>0.000000</td>\n",
       "      <td>-147.000000</td>\n",
       "    </tr>\n",
       "    <tr>\n",
       "      <th>25%</th>\n",
       "      <td>22112.000000</td>\n",
       "      <td>0.000000</td>\n",
       "      <td>88.000000</td>\n",
       "    </tr>\n",
       "    <tr>\n",
       "      <th>50%</th>\n",
       "      <td>28452.000000</td>\n",
       "      <td>0.000000</td>\n",
       "      <td>100.000000</td>\n",
       "    </tr>\n",
       "    <tr>\n",
       "      <th>75%</th>\n",
       "      <td>78079.000000</td>\n",
       "      <td>12.000000</td>\n",
       "      <td>100.000000</td>\n",
       "    </tr>\n",
       "    <tr>\n",
       "      <th>max</th>\n",
       "      <td>367152.000000</td>\n",
       "      <td>247.000000</td>\n",
       "      <td>100.000000</td>\n",
       "    </tr>\n",
       "  </tbody>\n",
       "</table>\n",
       "</div>"
      ],
      "text/plain": [
       "           licenseno  sum_violations         score\n",
       "count   72243.000000    72243.000000  72243.000000\n",
       "mean    58498.182108        8.642346     91.357654\n",
       "std     59463.612719       15.921356     15.921356\n",
       "min        54.000000        0.000000   -147.000000\n",
       "25%     22112.000000        0.000000     88.000000\n",
       "50%     28452.000000        0.000000    100.000000\n",
       "75%     78079.000000       12.000000    100.000000\n",
       "max    367152.000000      247.000000    100.000000"
      ]
     },
     "execution_count": 6,
     "metadata": {},
     "output_type": "execute_result"
    }
   ],
   "source": [
    "grades.describe()"
   ]
  },
  {
   "cell_type": "code",
   "execution_count": 7,
   "metadata": {
    "ExecuteTime": {
     "end_time": "2020-08-12T13:43:16.006755Z",
     "start_time": "2020-08-12T13:43:16.000175Z"
    }
   },
   "outputs": [
    {
     "data": {
      "text/plain": [
       "7558"
      ]
     },
     "execution_count": 7,
     "metadata": {},
     "output_type": "execute_result"
    }
   ],
   "source": [
    "#how many unique restaurants are in the dataset?\n",
    "grades['licenseno'].nunique()"
   ]
  },
  {
   "cell_type": "code",
   "execution_count": 8,
   "metadata": {
    "ExecuteTime": {
     "end_time": "2020-08-12T13:43:16.089981Z",
     "start_time": "2020-08-12T13:43:16.013528Z"
    }
   },
   "outputs": [
    {
     "data": {
      "text/plain": [
       "licenseno          4054\n",
       "issdttm            3911\n",
       "expdttm               3\n",
       "licstatus             1\n",
       "licensecat            4\n",
       "descript              4\n",
       "result                8\n",
       "resultdttm        48954\n",
       "sum_violations      156\n",
       "score               156\n",
       "grade                 3\n",
       "dtype: int64"
      ]
     },
     "execution_count": 8,
     "metadata": {},
     "output_type": "execute_result"
    }
   ],
   "source": [
    "#how many of those are active?\n",
    "grades[grades[\"licstatus\"] == \"Active\"].nunique()"
   ]
  },
  {
   "cell_type": "code",
   "execution_count": 9,
   "metadata": {
    "ExecuteTime": {
     "end_time": "2020-08-12T13:43:16.096036Z",
     "start_time": "2020-08-12T13:43:16.093447Z"
    }
   },
   "outputs": [],
   "source": [
    "#how many grades does one restaurant usually have?"
   ]
  },
  {
   "cell_type": "code",
   "execution_count": 10,
   "metadata": {
    "ExecuteTime": {
     "end_time": "2020-08-12T13:43:16.109409Z",
     "start_time": "2020-08-12T13:43:16.098813Z"
    },
    "scrolled": true
   },
   "outputs": [
    {
     "name": "stdout",
     "output_type": "stream",
     "text": [
      "8.0\n",
      "9.5584810796507\n"
     ]
    }
   ],
   "source": [
    "print(grades['licenseno'].value_counts().median())\n",
    "print(grades['licenseno'].value_counts().mean())"
   ]
  },
  {
   "cell_type": "code",
   "execution_count": 11,
   "metadata": {
    "ExecuteTime": {
     "end_time": "2020-08-12T13:43:16.367202Z",
     "start_time": "2020-08-12T13:43:16.111354Z"
    }
   },
   "outputs": [
    {
     "data": {
      "image/png": "[encoded data removed]",
      "text/plain": [
       "<Figure size 432x288 with 1 Axes>"
      ]
     },
     "metadata": {
      "needs_background": "light"
     },
     "output_type": "display_data"
    }
   ],
   "source": [
    "plt.hist(grades[\"licenseno\"].value_counts(), bins = 50);"
   ]
  },
  {
   "cell_type": "code",
   "execution_count": 12,
   "metadata": {
    "ExecuteTime": {
     "end_time": "2020-08-12T13:43:16.371901Z",
     "start_time": "2020-08-12T13:43:16.369342Z"
    }
   },
   "outputs": [],
   "source": [
    "#distribution of inspection results?"
   ]
  },
  {
   "cell_type": "code",
   "execution_count": 13,
   "metadata": {
    "ExecuteTime": {
     "end_time": "2020-08-12T13:43:16.384918Z",
     "start_time": "2020-08-12T13:43:16.374065Z"
    }
   },
   "outputs": [
    {
     "data": {
      "text/plain": [
       "HE_Pass       28828\n",
       "HE_Fail       21409\n",
       "HE_Filed       9513\n",
       "HE_NotReq      7262\n",
       "HE_FailExt     3047\n",
       "HE_Hearing     1414\n",
       "HE_TSOP         450\n",
       "HE_OutBus       320\n",
       "Name: result, dtype: int64"
      ]
     },
     "execution_count": 13,
     "metadata": {},
     "output_type": "execute_result"
    }
   ],
   "source": [
    "grades[\"result\"].value_counts()"
   ]
  },
  {
   "cell_type": "code",
   "execution_count": 14,
   "metadata": {
    "ExecuteTime": {
     "end_time": "2020-08-12T13:43:16.388606Z",
     "start_time": "2020-08-12T13:43:16.386466Z"
    }
   },
   "outputs": [],
   "source": [
    "#type of restaurant"
   ]
  },
  {
   "cell_type": "code",
   "execution_count": 15,
   "metadata": {
    "ExecuteTime": {
     "end_time": "2020-08-12T13:43:16.400812Z",
     "start_time": "2020-08-12T13:43:16.390285Z"
    }
   },
   "outputs": [
    {
     "data": {
      "text/plain": [
       "Eating & Drinking                30780\n",
       "Eating & Drinking w/ Take Out    26971\n",
       "Retail Food                      13091\n",
       "Mobile Food Walk On               1401\n",
       "Name: descript, dtype: int64"
      ]
     },
     "execution_count": 15,
     "metadata": {},
     "output_type": "execute_result"
    }
   ],
   "source": [
    "grades[\"descript\"].value_counts()"
   ]
  },
  {
   "cell_type": "code",
   "execution_count": 16,
   "metadata": {
    "ExecuteTime": {
     "end_time": "2020-08-12T13:43:16.599132Z",
     "start_time": "2020-08-12T13:43:16.403202Z"
    }
   },
   "outputs": [
    {
     "data": {
      "image/png": "[encoded data removed]",
      "text/plain": [
       "<Figure size 432x288 with 1 Axes>"
      ]
     },
     "metadata": {
      "needs_background": "light"
     },
     "output_type": "display_data"
    }
   ],
   "source": [
    "plt.hist(grades[\"descript\"])\n",
    "plt.xticks(rotation=45);"
   ]
  },
  {
   "cell_type": "code",
   "execution_count": 17,
   "metadata": {
    "ExecuteTime": {
     "end_time": "2020-08-12T13:43:16.603632Z",
     "start_time": "2020-08-12T13:43:16.601143Z"
    }
   },
   "outputs": [],
   "source": [
    "#explore sum violations"
   ]
  },
  {
   "cell_type": "code",
   "execution_count": 18,
   "metadata": {
    "ExecuteTime": {
     "end_time": "2020-08-12T13:43:16.615716Z",
     "start_time": "2020-08-12T13:43:16.605877Z"
    }
   },
   "outputs": [
    {
     "data": {
      "text/plain": [
       "count    72243.000000\n",
       "mean         8.642346\n",
       "std         15.921356\n",
       "min          0.000000\n",
       "25%          0.000000\n",
       "50%          0.000000\n",
       "75%         12.000000\n",
       "max        247.000000\n",
       "Name: sum_violations, dtype: float64"
      ]
     },
     "execution_count": 18,
     "metadata": {},
     "output_type": "execute_result"
    }
   ],
   "source": [
    "grades['sum_violations'].describe()"
   ]
  },
  {
   "cell_type": "code",
   "execution_count": 19,
   "metadata": {
    "ExecuteTime": {
     "end_time": "2020-08-12T13:43:16.627031Z",
     "start_time": "2020-08-12T13:43:16.617318Z"
    }
   },
   "outputs": [
    {
     "data": {
      "text/html": [
       "<div>\n",
       "<style scoped>\n",
       "    .dataframe tbody tr th:only-of-type {\n",
       "        vertical-align: middle;\n",
       "    }\n",
       "\n",
       "    .dataframe tbody tr th {\n",
       "        vertical-align: top;\n",
       "    }\n",
       "\n",
       "    .dataframe thead th {\n",
       "        text-align: right;\n",
       "    }\n",
       "</style>\n",
       "<table border=\"1\" class=\"dataframe\">\n",
       "  <thead>\n",
       "    <tr style=\"text-align: right;\">\n",
       "      <th></th>\n",
       "      <th>licenseno</th>\n",
       "      <th>issdttm</th>\n",
       "      <th>expdttm</th>\n",
       "      <th>licstatus</th>\n",
       "      <th>licensecat</th>\n",
       "      <th>descript</th>\n",
       "      <th>result</th>\n",
       "      <th>resultdttm</th>\n",
       "      <th>sum_violations</th>\n",
       "      <th>score</th>\n",
       "      <th>grade</th>\n",
       "    </tr>\n",
       "  </thead>\n",
       "  <tbody>\n",
       "    <tr>\n",
       "      <th>30267</th>\n",
       "      <td>22075</td>\n",
       "      <td>12/20/2011 14:02</td>\n",
       "      <td>12/31/2017 23:59</td>\n",
       "      <td>Inactive</td>\n",
       "      <td>FS</td>\n",
       "      <td>Eating &amp; Drinking</td>\n",
       "      <td>HE_TSOP</td>\n",
       "      <td>5/30/2014 11:07</td>\n",
       "      <td>247</td>\n",
       "      <td>-147</td>\n",
       "      <td>C</td>\n",
       "    </tr>\n",
       "  </tbody>\n",
       "</table>\n",
       "</div>"
      ],
      "text/plain": [
       "       licenseno           issdttm           expdttm licstatus licensecat  \\\n",
       "30267      22075  12/20/2011 14:02  12/31/2017 23:59  Inactive         FS   \n",
       "\n",
       "                descript   result       resultdttm  sum_violations  score  \\\n",
       "30267  Eating & Drinking  HE_TSOP  5/30/2014 11:07             247   -147   \n",
       "\n",
       "      grade  \n",
       "30267     C  "
      ]
     },
     "execution_count": 19,
     "metadata": {},
     "output_type": "execute_result"
    }
   ],
   "source": [
    "#is the 247 a mistake? Doesn't seem like that could be right?\n",
    "grades[grades['sum_violations']== 247] "
   ]
  },
  {
   "cell_type": "code",
   "execution_count": 20,
   "metadata": {
    "ExecuteTime": {
     "end_time": "2020-08-12T13:43:16.645330Z",
     "start_time": "2020-08-12T13:43:16.628662Z"
    }
   },
   "outputs": [
    {
     "data": {
      "text/html": [
       "<div>\n",
       "<style scoped>\n",
       "    .dataframe tbody tr th:only-of-type {\n",
       "        vertical-align: middle;\n",
       "    }\n",
       "\n",
       "    .dataframe tbody tr th {\n",
       "        vertical-align: top;\n",
       "    }\n",
       "\n",
       "    .dataframe thead th {\n",
       "        text-align: right;\n",
       "    }\n",
       "</style>\n",
       "<table border=\"1\" class=\"dataframe\">\n",
       "  <thead>\n",
       "    <tr style=\"text-align: right;\">\n",
       "      <th></th>\n",
       "      <th>licenseno</th>\n",
       "      <th>issdttm</th>\n",
       "      <th>expdttm</th>\n",
       "      <th>licstatus</th>\n",
       "      <th>licensecat</th>\n",
       "      <th>descript</th>\n",
       "      <th>result</th>\n",
       "      <th>resultdttm</th>\n",
       "      <th>sum_violations</th>\n",
       "      <th>score</th>\n",
       "      <th>grade</th>\n",
       "    </tr>\n",
       "  </thead>\n",
       "  <tbody>\n",
       "    <tr>\n",
       "      <th>1045</th>\n",
       "      <td>22075</td>\n",
       "      <td>12/20/2011 14:02</td>\n",
       "      <td>12/31/2017 23:59</td>\n",
       "      <td>Inactive</td>\n",
       "      <td>FS</td>\n",
       "      <td>Eating &amp; Drinking</td>\n",
       "      <td>HE_Fail</td>\n",
       "      <td>2/7/2012 12:15</td>\n",
       "      <td>6</td>\n",
       "      <td>94</td>\n",
       "      <td>A</td>\n",
       "    </tr>\n",
       "    <tr>\n",
       "      <th>1535</th>\n",
       "      <td>22075</td>\n",
       "      <td>12/20/2011 14:02</td>\n",
       "      <td>12/31/2017 23:59</td>\n",
       "      <td>Inactive</td>\n",
       "      <td>FS</td>\n",
       "      <td>Eating &amp; Drinking</td>\n",
       "      <td>HE_Pass</td>\n",
       "      <td>2/24/2012 14:17</td>\n",
       "      <td>0</td>\n",
       "      <td>100</td>\n",
       "      <td>A</td>\n",
       "    </tr>\n",
       "    <tr>\n",
       "      <th>8534</th>\n",
       "      <td>22075</td>\n",
       "      <td>12/20/2011 14:02</td>\n",
       "      <td>12/31/2017 23:59</td>\n",
       "      <td>Inactive</td>\n",
       "      <td>FS</td>\n",
       "      <td>Eating &amp; Drinking</td>\n",
       "      <td>HE_Filed</td>\n",
       "      <td>10/24/2012 12:26</td>\n",
       "      <td>14</td>\n",
       "      <td>86</td>\n",
       "      <td>B</td>\n",
       "    </tr>\n",
       "    <tr>\n",
       "      <th>11486</th>\n",
       "      <td>22075</td>\n",
       "      <td>12/20/2011 14:02</td>\n",
       "      <td>12/31/2017 23:59</td>\n",
       "      <td>Inactive</td>\n",
       "      <td>FS</td>\n",
       "      <td>Eating &amp; Drinking</td>\n",
       "      <td>HE_NotReq</td>\n",
       "      <td>12/30/2012 0:00</td>\n",
       "      <td>0</td>\n",
       "      <td>100</td>\n",
       "      <td>A</td>\n",
       "    </tr>\n",
       "    <tr>\n",
       "      <th>18964</th>\n",
       "      <td>22075</td>\n",
       "      <td>12/20/2011 14:02</td>\n",
       "      <td>12/31/2017 23:59</td>\n",
       "      <td>Inactive</td>\n",
       "      <td>FS</td>\n",
       "      <td>Eating &amp; Drinking</td>\n",
       "      <td>HE_Filed</td>\n",
       "      <td>5/31/2013 14:51</td>\n",
       "      <td>4</td>\n",
       "      <td>96</td>\n",
       "      <td>A</td>\n",
       "    </tr>\n",
       "    <tr>\n",
       "      <th>24459</th>\n",
       "      <td>22075</td>\n",
       "      <td>12/20/2011 14:02</td>\n",
       "      <td>12/31/2017 23:59</td>\n",
       "      <td>Inactive</td>\n",
       "      <td>FS</td>\n",
       "      <td>Eating &amp; Drinking</td>\n",
       "      <td>HE_NotReq</td>\n",
       "      <td>12/30/2013 0:00</td>\n",
       "      <td>0</td>\n",
       "      <td>100</td>\n",
       "      <td>A</td>\n",
       "    </tr>\n",
       "    <tr>\n",
       "      <th>30267</th>\n",
       "      <td>22075</td>\n",
       "      <td>12/20/2011 14:02</td>\n",
       "      <td>12/31/2017 23:59</td>\n",
       "      <td>Inactive</td>\n",
       "      <td>FS</td>\n",
       "      <td>Eating &amp; Drinking</td>\n",
       "      <td>HE_TSOP</td>\n",
       "      <td>5/30/2014 11:07</td>\n",
       "      <td>247</td>\n",
       "      <td>-147</td>\n",
       "      <td>C</td>\n",
       "    </tr>\n",
       "    <tr>\n",
       "      <th>30320</th>\n",
       "      <td>22075</td>\n",
       "      <td>12/20/2011 14:02</td>\n",
       "      <td>12/31/2017 23:59</td>\n",
       "      <td>Inactive</td>\n",
       "      <td>FS</td>\n",
       "      <td>Eating &amp; Drinking</td>\n",
       "      <td>HE_FailExt</td>\n",
       "      <td>6/3/2014 10:41</td>\n",
       "      <td>36</td>\n",
       "      <td>64</td>\n",
       "      <td>C</td>\n",
       "    </tr>\n",
       "    <tr>\n",
       "      <th>31077</th>\n",
       "      <td>22075</td>\n",
       "      <td>12/20/2011 14:02</td>\n",
       "      <td>12/31/2017 23:59</td>\n",
       "      <td>Inactive</td>\n",
       "      <td>FS</td>\n",
       "      <td>Eating &amp; Drinking</td>\n",
       "      <td>HE_Pass</td>\n",
       "      <td>7/1/2014 8:50</td>\n",
       "      <td>0</td>\n",
       "      <td>100</td>\n",
       "      <td>A</td>\n",
       "    </tr>\n",
       "    <tr>\n",
       "      <th>44663</th>\n",
       "      <td>22075</td>\n",
       "      <td>12/20/2011 14:02</td>\n",
       "      <td>12/31/2017 23:59</td>\n",
       "      <td>Inactive</td>\n",
       "      <td>FS</td>\n",
       "      <td>Eating &amp; Drinking</td>\n",
       "      <td>HE_Fail</td>\n",
       "      <td>12/1/2015 13:30</td>\n",
       "      <td>32</td>\n",
       "      <td>68</td>\n",
       "      <td>C</td>\n",
       "    </tr>\n",
       "    <tr>\n",
       "      <th>44962</th>\n",
       "      <td>22075</td>\n",
       "      <td>12/20/2011 14:02</td>\n",
       "      <td>12/31/2017 23:59</td>\n",
       "      <td>Inactive</td>\n",
       "      <td>FS</td>\n",
       "      <td>Eating &amp; Drinking</td>\n",
       "      <td>HE_Hearing</td>\n",
       "      <td>12/11/2015 11:21</td>\n",
       "      <td>2</td>\n",
       "      <td>98</td>\n",
       "      <td>A</td>\n",
       "    </tr>\n",
       "    <tr>\n",
       "      <th>45178</th>\n",
       "      <td>22075</td>\n",
       "      <td>12/20/2011 14:02</td>\n",
       "      <td>12/31/2017 23:59</td>\n",
       "      <td>Inactive</td>\n",
       "      <td>FS</td>\n",
       "      <td>Eating &amp; Drinking</td>\n",
       "      <td>HE_Pass</td>\n",
       "      <td>12/21/2015 11:05</td>\n",
       "      <td>0</td>\n",
       "      <td>100</td>\n",
       "      <td>A</td>\n",
       "    </tr>\n",
       "    <tr>\n",
       "      <th>45604</th>\n",
       "      <td>22075</td>\n",
       "      <td>12/20/2011 14:02</td>\n",
       "      <td>12/31/2017 23:59</td>\n",
       "      <td>Inactive</td>\n",
       "      <td>FS</td>\n",
       "      <td>Eating &amp; Drinking</td>\n",
       "      <td>HE_Fail</td>\n",
       "      <td>1/12/2016 9:10</td>\n",
       "      <td>39</td>\n",
       "      <td>61</td>\n",
       "      <td>C</td>\n",
       "    </tr>\n",
       "    <tr>\n",
       "      <th>45840</th>\n",
       "      <td>22075</td>\n",
       "      <td>12/20/2011 14:02</td>\n",
       "      <td>12/31/2017 23:59</td>\n",
       "      <td>Inactive</td>\n",
       "      <td>FS</td>\n",
       "      <td>Eating &amp; Drinking</td>\n",
       "      <td>HE_Pass</td>\n",
       "      <td>1/19/2016 14:06</td>\n",
       "      <td>0</td>\n",
       "      <td>100</td>\n",
       "      <td>A</td>\n",
       "    </tr>\n",
       "    <tr>\n",
       "      <th>53900</th>\n",
       "      <td>22075</td>\n",
       "      <td>12/20/2011 14:02</td>\n",
       "      <td>12/31/2017 23:59</td>\n",
       "      <td>Inactive</td>\n",
       "      <td>FS</td>\n",
       "      <td>Eating &amp; Drinking</td>\n",
       "      <td>HE_Fail</td>\n",
       "      <td>10/5/2016 12:11</td>\n",
       "      <td>14</td>\n",
       "      <td>86</td>\n",
       "      <td>B</td>\n",
       "    </tr>\n",
       "    <tr>\n",
       "      <th>54122</th>\n",
       "      <td>22075</td>\n",
       "      <td>12/20/2011 14:02</td>\n",
       "      <td>12/31/2017 23:59</td>\n",
       "      <td>Inactive</td>\n",
       "      <td>FS</td>\n",
       "      <td>Eating &amp; Drinking</td>\n",
       "      <td>HE_Pass</td>\n",
       "      <td>10/12/2016 12:23</td>\n",
       "      <td>0</td>\n",
       "      <td>100</td>\n",
       "      <td>A</td>\n",
       "    </tr>\n",
       "  </tbody>\n",
       "</table>\n",
       "</div>"
      ],
      "text/plain": [
       "       licenseno           issdttm           expdttm licstatus licensecat  \\\n",
       "1045       22075  12/20/2011 14:02  12/31/2017 23:59  Inactive         FS   \n",
       "1535       22075  12/20/2011 14:02  12/31/2017 23:59  Inactive         FS   \n",
       "8534       22075  12/20/2011 14:02  12/31/2017 23:59  Inactive         FS   \n",
       "11486      22075  12/20/2011 14:02  12/31/2017 23:59  Inactive         FS   \n",
       "18964      22075  12/20/2011 14:02  12/31/2017 23:59  Inactive         FS   \n",
       "24459      22075  12/20/2011 14:02  12/31/2017 23:59  Inactive         FS   \n",
       "30267      22075  12/20/2011 14:02  12/31/2017 23:59  Inactive         FS   \n",
       "30320      22075  12/20/2011 14:02  12/31/2017 23:59  Inactive         FS   \n",
       "31077      22075  12/20/2011 14:02  12/31/2017 23:59  Inactive         FS   \n",
       "44663      22075  12/20/2011 14:02  12/31/2017 23:59  Inactive         FS   \n",
       "44962      22075  12/20/2011 14:02  12/31/2017 23:59  Inactive         FS   \n",
       "45178      22075  12/20/2011 14:02  12/31/2017 23:59  Inactive         FS   \n",
       "45604      22075  12/20/2011 14:02  12/31/2017 23:59  Inactive         FS   \n",
       "45840      22075  12/20/2011 14:02  12/31/2017 23:59  Inactive         FS   \n",
       "53900      22075  12/20/2011 14:02  12/31/2017 23:59  Inactive         FS   \n",
       "54122      22075  12/20/2011 14:02  12/31/2017 23:59  Inactive         FS   \n",
       "\n",
       "                descript      result        resultdttm  sum_violations  score  \\\n",
       "1045   Eating & Drinking     HE_Fail    2/7/2012 12:15               6     94   \n",
       "1535   Eating & Drinking     HE_Pass   2/24/2012 14:17               0    100   \n",
       "8534   Eating & Drinking    HE_Filed  10/24/2012 12:26              14     86   \n",
       "11486  Eating & Drinking   HE_NotReq   12/30/2012 0:00               0    100   \n",
       "18964  Eating & Drinking    HE_Filed   5/31/2013 14:51               4     96   \n",
       "24459  Eating & Drinking   HE_NotReq   12/30/2013 0:00               0    100   \n",
       "30267  Eating & Drinking     HE_TSOP   5/30/2014 11:07             247   -147   \n",
       "30320  Eating & Drinking  HE_FailExt    6/3/2014 10:41              36     64   \n",
       "31077  Eating & Drinking     HE_Pass     7/1/2014 8:50               0    100   \n",
       "44663  Eating & Drinking     HE_Fail   12/1/2015 13:30              32     68   \n",
       "44962  Eating & Drinking  HE_Hearing  12/11/2015 11:21               2     98   \n",
       "45178  Eating & Drinking     HE_Pass  12/21/2015 11:05               0    100   \n",
       "45604  Eating & Drinking     HE_Fail    1/12/2016 9:10              39     61   \n",
       "45840  Eating & Drinking     HE_Pass   1/19/2016 14:06               0    100   \n",
       "53900  Eating & Drinking     HE_Fail   10/5/2016 12:11              14     86   \n",
       "54122  Eating & Drinking     HE_Pass  10/12/2016 12:23               0    100   \n",
       "\n",
       "      grade  \n",
       "1045      A  \n",
       "1535      A  \n",
       "8534      B  \n",
       "11486     A  \n",
       "18964     A  \n",
       "24459     A  \n",
       "30267     C  \n",
       "30320     C  \n",
       "31077     A  \n",
       "44663     C  \n",
       "44962     A  \n",
       "45178     A  \n",
       "45604     C  \n",
       "45840     A  \n",
       "53900     B  \n",
       "54122     A  "
      ]
     },
     "execution_count": 20,
     "metadata": {},
     "output_type": "execute_result"
    }
   ],
   "source": [
    "grades[grades[\"licenseno\"] == 22075]"
   ]
  },
  {
   "cell_type": "code",
   "execution_count": 21,
   "metadata": {
    "ExecuteTime": {
     "end_time": "2020-08-12T13:43:16.665122Z",
     "start_time": "2020-08-12T13:43:16.647095Z"
    }
   },
   "outputs": [
    {
     "data": {
      "text/html": [
       "<div>\n",
       "<style scoped>\n",
       "    .dataframe tbody tr th:only-of-type {\n",
       "        vertical-align: middle;\n",
       "    }\n",
       "\n",
       "    .dataframe tbody tr th {\n",
       "        vertical-align: top;\n",
       "    }\n",
       "\n",
       "    .dataframe thead th {\n",
       "        text-align: right;\n",
       "    }\n",
       "</style>\n",
       "<table border=\"1\" class=\"dataframe\">\n",
       "  <thead>\n",
       "    <tr style=\"text-align: right;\">\n",
       "      <th></th>\n",
       "      <th>licenseno</th>\n",
       "      <th>issdttm</th>\n",
       "      <th>expdttm</th>\n",
       "      <th>licstatus</th>\n",
       "      <th>licensecat</th>\n",
       "      <th>descript</th>\n",
       "      <th>result</th>\n",
       "      <th>resultdttm</th>\n",
       "      <th>sum_violations</th>\n",
       "      <th>score</th>\n",
       "      <th>grade</th>\n",
       "    </tr>\n",
       "  </thead>\n",
       "  <tbody>\n",
       "    <tr>\n",
       "      <th>875</th>\n",
       "      <td>34762</td>\n",
       "      <td>1/5/2012 12:45</td>\n",
       "      <td>12/31/2012 23:59</td>\n",
       "      <td>Inactive</td>\n",
       "      <td>FT</td>\n",
       "      <td>Eating &amp; Drinking w/ Take Out</td>\n",
       "      <td>HE_TSOP</td>\n",
       "      <td>2/1/2012 13:41</td>\n",
       "      <td>115</td>\n",
       "      <td>-15</td>\n",
       "      <td>C</td>\n",
       "    </tr>\n",
       "    <tr>\n",
       "      <th>924</th>\n",
       "      <td>21828</td>\n",
       "      <td>1/25/2012 15:00</td>\n",
       "      <td>12/31/2015 23:59</td>\n",
       "      <td>Inactive</td>\n",
       "      <td>FS</td>\n",
       "      <td>Eating &amp; Drinking</td>\n",
       "      <td>HE_Fail</td>\n",
       "      <td>2/3/2012 10:35</td>\n",
       "      <td>114</td>\n",
       "      <td>-14</td>\n",
       "      <td>C</td>\n",
       "    </tr>\n",
       "    <tr>\n",
       "      <th>1368</th>\n",
       "      <td>30345</td>\n",
       "      <td>6/15/2012 10:40</td>\n",
       "      <td>12/31/2012 23:59</td>\n",
       "      <td>Inactive</td>\n",
       "      <td>FT</td>\n",
       "      <td>Eating &amp; Drinking w/ Take Out</td>\n",
       "      <td>HE_TSOP</td>\n",
       "      <td>2/17/2012 10:04</td>\n",
       "      <td>104</td>\n",
       "      <td>-4</td>\n",
       "      <td>C</td>\n",
       "    </tr>\n",
       "    <tr>\n",
       "      <th>1528</th>\n",
       "      <td>37220</td>\n",
       "      <td>12/12/2011 9:07</td>\n",
       "      <td>12/31/2015 23:59</td>\n",
       "      <td>Inactive</td>\n",
       "      <td>FT</td>\n",
       "      <td>Eating &amp; Drinking w/ Take Out</td>\n",
       "      <td>HE_TSOP</td>\n",
       "      <td>2/24/2012 12:15</td>\n",
       "      <td>105</td>\n",
       "      <td>-5</td>\n",
       "      <td>C</td>\n",
       "    </tr>\n",
       "    <tr>\n",
       "      <th>2127</th>\n",
       "      <td>18686</td>\n",
       "      <td>12/29/2011 14:14</td>\n",
       "      <td>12/31/2018 23:59</td>\n",
       "      <td>Active</td>\n",
       "      <td>FS</td>\n",
       "      <td>Eating &amp; Drinking</td>\n",
       "      <td>HE_Fail</td>\n",
       "      <td>3/15/2012 11:07</td>\n",
       "      <td>101</td>\n",
       "      <td>-1</td>\n",
       "      <td>C</td>\n",
       "    </tr>\n",
       "    <tr>\n",
       "      <th>...</th>\n",
       "      <td>...</td>\n",
       "      <td>...</td>\n",
       "      <td>...</td>\n",
       "      <td>...</td>\n",
       "      <td>...</td>\n",
       "      <td>...</td>\n",
       "      <td>...</td>\n",
       "      <td>...</td>\n",
       "      <td>...</td>\n",
       "      <td>...</td>\n",
       "      <td>...</td>\n",
       "    </tr>\n",
       "    <tr>\n",
       "      <th>68335</th>\n",
       "      <td>112428</td>\n",
       "      <td>9/19/2013 14:16</td>\n",
       "      <td>12/31/2018 23:59</td>\n",
       "      <td>Active</td>\n",
       "      <td>FT</td>\n",
       "      <td>Eating &amp; Drinking w/ Take Out</td>\n",
       "      <td>HE_TSOP</td>\n",
       "      <td>2/27/2018 8:28</td>\n",
       "      <td>156</td>\n",
       "      <td>-56</td>\n",
       "      <td>C</td>\n",
       "    </tr>\n",
       "    <tr>\n",
       "      <th>68799</th>\n",
       "      <td>23973</td>\n",
       "      <td>2/24/2012 9:10</td>\n",
       "      <td>12/31/2018 23:59</td>\n",
       "      <td>Active</td>\n",
       "      <td>FS</td>\n",
       "      <td>Eating &amp; Drinking</td>\n",
       "      <td>HE_TSOP</td>\n",
       "      <td>3/14/2018 10:06</td>\n",
       "      <td>116</td>\n",
       "      <td>-16</td>\n",
       "      <td>C</td>\n",
       "    </tr>\n",
       "    <tr>\n",
       "      <th>70051</th>\n",
       "      <td>21464</td>\n",
       "      <td>2/8/2012 8:40</td>\n",
       "      <td>12/31/2018 23:59</td>\n",
       "      <td>Active</td>\n",
       "      <td>FS</td>\n",
       "      <td>Eating &amp; Drinking</td>\n",
       "      <td>HE_Fail</td>\n",
       "      <td>4/19/2018 8:18</td>\n",
       "      <td>109</td>\n",
       "      <td>-9</td>\n",
       "      <td>C</td>\n",
       "    </tr>\n",
       "    <tr>\n",
       "      <th>70729</th>\n",
       "      <td>37129</td>\n",
       "      <td>3/26/2012 9:30</td>\n",
       "      <td>12/31/2018 23:59</td>\n",
       "      <td>Active</td>\n",
       "      <td>FS</td>\n",
       "      <td>Eating &amp; Drinking</td>\n",
       "      <td>HE_Fail</td>\n",
       "      <td>5/7/2018 9:29</td>\n",
       "      <td>116</td>\n",
       "      <td>-16</td>\n",
       "      <td>C</td>\n",
       "    </tr>\n",
       "    <tr>\n",
       "      <th>71158</th>\n",
       "      <td>312614</td>\n",
       "      <td>10/17/2017 8:14</td>\n",
       "      <td>12/31/2018 23:59</td>\n",
       "      <td>Active</td>\n",
       "      <td>FS</td>\n",
       "      <td>Eating &amp; Drinking</td>\n",
       "      <td>HE_Fail</td>\n",
       "      <td>5/21/2018 8:37</td>\n",
       "      <td>123</td>\n",
       "      <td>-23</td>\n",
       "      <td>C</td>\n",
       "    </tr>\n",
       "  </tbody>\n",
       "</table>\n",
       "<p>210 rows × 11 columns</p>\n",
       "</div>"
      ],
      "text/plain": [
       "       licenseno           issdttm           expdttm licstatus licensecat  \\\n",
       "875        34762    1/5/2012 12:45  12/31/2012 23:59  Inactive         FT   \n",
       "924        21828   1/25/2012 15:00  12/31/2015 23:59  Inactive         FS   \n",
       "1368       30345   6/15/2012 10:40  12/31/2012 23:59  Inactive         FT   \n",
       "1528       37220   12/12/2011 9:07  12/31/2015 23:59  Inactive         FT   \n",
       "2127       18686  12/29/2011 14:14  12/31/2018 23:59    Active         FS   \n",
       "...          ...               ...               ...       ...        ...   \n",
       "68335     112428   9/19/2013 14:16  12/31/2018 23:59    Active         FT   \n",
       "68799      23973    2/24/2012 9:10  12/31/2018 23:59    Active         FS   \n",
       "70051      21464     2/8/2012 8:40  12/31/2018 23:59    Active         FS   \n",
       "70729      37129    3/26/2012 9:30  12/31/2018 23:59    Active         FS   \n",
       "71158     312614   10/17/2017 8:14  12/31/2018 23:59    Active         FS   \n",
       "\n",
       "                            descript   result       resultdttm  \\\n",
       "875    Eating & Drinking w/ Take Out  HE_TSOP   2/1/2012 13:41   \n",
       "924                Eating & Drinking  HE_Fail   2/3/2012 10:35   \n",
       "1368   Eating & Drinking w/ Take Out  HE_TSOP  2/17/2012 10:04   \n",
       "1528   Eating & Drinking w/ Take Out  HE_TSOP  2/24/2012 12:15   \n",
       "2127               Eating & Drinking  HE_Fail  3/15/2012 11:07   \n",
       "...                              ...      ...              ...   \n",
       "68335  Eating & Drinking w/ Take Out  HE_TSOP   2/27/2018 8:28   \n",
       "68799              Eating & Drinking  HE_TSOP  3/14/2018 10:06   \n",
       "70051              Eating & Drinking  HE_Fail   4/19/2018 8:18   \n",
       "70729              Eating & Drinking  HE_Fail    5/7/2018 9:29   \n",
       "71158              Eating & Drinking  HE_Fail   5/21/2018 8:37   \n",
       "\n",
       "       sum_violations  score grade  \n",
       "875               115    -15     C  \n",
       "924               114    -14     C  \n",
       "1368              104     -4     C  \n",
       "1528              105     -5     C  \n",
       "2127              101     -1     C  \n",
       "...               ...    ...   ...  \n",
       "68335             156    -56     C  \n",
       "68799             116    -16     C  \n",
       "70051             109     -9     C  \n",
       "70729             116    -16     C  \n",
       "71158             123    -23     C  \n",
       "\n",
       "[210 rows x 11 columns]"
      ]
     },
     "execution_count": 21,
     "metadata": {},
     "output_type": "execute_result"
    }
   ],
   "source": [
    "grades[grades[\"sum_violations\"] > 100]"
   ]
  },
  {
   "cell_type": "code",
   "execution_count": 22,
   "metadata": {
    "ExecuteTime": {
     "end_time": "2020-08-12T13:43:16.901171Z",
     "start_time": "2020-08-12T13:43:16.667570Z"
    }
   },
   "outputs": [
    {
     "data": {
      "image/png": "[encoded data removed]",
      "text/plain": [
       "<Figure size 432x288 with 1 Axes>"
      ]
     },
     "metadata": {
      "needs_background": "light"
     },
     "output_type": "display_data"
    }
   ],
   "source": [
    "plt.hist(grades['sum_violations'], bins = 50);"
   ]
  },
  {
   "cell_type": "code",
   "execution_count": 23,
   "metadata": {
    "ExecuteTime": {
     "end_time": "2020-08-12T13:43:16.915137Z",
     "start_time": "2020-08-12T13:43:16.907676Z"
    }
   },
   "outputs": [
    {
     "data": {
      "text/plain": [
       "count    72243.000000\n",
       "mean        91.357654\n",
       "std         15.921356\n",
       "min       -147.000000\n",
       "25%         88.000000\n",
       "50%        100.000000\n",
       "75%        100.000000\n",
       "max        100.000000\n",
       "Name: score, dtype: float64"
      ]
     },
     "execution_count": 23,
     "metadata": {},
     "output_type": "execute_result"
    }
   ],
   "source": [
    "grades['score'].describe()"
   ]
  },
  {
   "cell_type": "code",
   "execution_count": 24,
   "metadata": {
    "ExecuteTime": {
     "end_time": "2020-08-12T13:43:16.920650Z",
     "start_time": "2020-08-12T13:43:16.918677Z"
    }
   },
   "outputs": [],
   "source": [
    "#distribution of grades?"
   ]
  },
  {
   "cell_type": "code",
   "execution_count": 25,
   "metadata": {
    "ExecuteTime": {
     "end_time": "2020-08-12T13:43:16.932316Z",
     "start_time": "2020-08-12T13:43:16.922444Z"
    }
   },
   "outputs": [
    {
     "data": {
      "text/plain": [
       "A    49937\n",
       "C    11827\n",
       "B    10479\n",
       "Name: grade, dtype: int64"
      ]
     },
     "execution_count": 25,
     "metadata": {},
     "output_type": "execute_result"
    }
   ],
   "source": [
    "grades['grade'].value_counts()"
   ]
  },
  {
   "cell_type": "code",
   "execution_count": 26,
   "metadata": {
    "ExecuteTime": {
     "end_time": "2020-08-12T13:43:17.097167Z",
     "start_time": "2020-08-12T13:43:16.934977Z"
    }
   },
   "outputs": [
    {
     "data": {
      "image/png": "[encoded data removed]",
      "text/plain": [
       "<Figure size 432x288 with 1 Axes>"
      ]
     },
     "metadata": {
      "needs_background": "light"
     },
     "output_type": "display_data"
    }
   ],
   "source": [
    "plt.hist(grades['grade']);"
   ]
  },
  {
   "cell_type": "markdown",
   "metadata": {},
   "source": [
    "# how are restaurants failing inspections yet getting \"A\" grades?"
   ]
  },
  {
   "cell_type": "code",
   "execution_count": 27,
   "metadata": {
    "ExecuteTime": {
     "end_time": "2020-08-12T13:43:17.126087Z",
     "start_time": "2020-08-12T13:43:17.099437Z"
    }
   },
   "outputs": [
    {
     "data": {
      "text/html": [
       "<div>\n",
       "<style scoped>\n",
       "    .dataframe tbody tr th:only-of-type {\n",
       "        vertical-align: middle;\n",
       "    }\n",
       "\n",
       "    .dataframe tbody tr th {\n",
       "        vertical-align: top;\n",
       "    }\n",
       "\n",
       "    .dataframe thead th {\n",
       "        text-align: right;\n",
       "    }\n",
       "</style>\n",
       "<table border=\"1\" class=\"dataframe\">\n",
       "  <thead>\n",
       "    <tr style=\"text-align: right;\">\n",
       "      <th></th>\n",
       "      <th>licenseno</th>\n",
       "      <th>issdttm</th>\n",
       "      <th>expdttm</th>\n",
       "      <th>licstatus</th>\n",
       "      <th>licensecat</th>\n",
       "      <th>descript</th>\n",
       "      <th>result</th>\n",
       "      <th>resultdttm</th>\n",
       "      <th>sum_violations</th>\n",
       "      <th>score</th>\n",
       "      <th>grade</th>\n",
       "    </tr>\n",
       "  </thead>\n",
       "  <tbody>\n",
       "    <tr>\n",
       "      <th>2</th>\n",
       "      <td>18086</td>\n",
       "      <td>12/27/2011 12:46</td>\n",
       "      <td>12/31/2011 23:59</td>\n",
       "      <td>Inactive</td>\n",
       "      <td>RF</td>\n",
       "      <td>Retail Food</td>\n",
       "      <td>HE_Fail</td>\n",
       "      <td>1/3/2012 10:06</td>\n",
       "      <td>6</td>\n",
       "      <td>94</td>\n",
       "      <td>A</td>\n",
       "    </tr>\n",
       "    <tr>\n",
       "      <th>23</th>\n",
       "      <td>21177</td>\n",
       "      <td>12/7/2011 9:45</td>\n",
       "      <td>12/31/2018 23:59</td>\n",
       "      <td>Active</td>\n",
       "      <td>RF</td>\n",
       "      <td>Retail Food</td>\n",
       "      <td>HE_Fail</td>\n",
       "      <td>1/3/2012 11:59</td>\n",
       "      <td>2</td>\n",
       "      <td>98</td>\n",
       "      <td>A</td>\n",
       "    </tr>\n",
       "    <tr>\n",
       "      <th>27</th>\n",
       "      <td>31976</td>\n",
       "      <td>1/3/2012 8:11</td>\n",
       "      <td>12/31/2018 23:59</td>\n",
       "      <td>Active</td>\n",
       "      <td>FS</td>\n",
       "      <td>Eating &amp; Drinking</td>\n",
       "      <td>HE_Fail</td>\n",
       "      <td>1/3/2012 12:31</td>\n",
       "      <td>4</td>\n",
       "      <td>96</td>\n",
       "      <td>A</td>\n",
       "    </tr>\n",
       "    <tr>\n",
       "      <th>37</th>\n",
       "      <td>77953</td>\n",
       "      <td>1/10/2012 9:32</td>\n",
       "      <td>12/31/2012 23:59</td>\n",
       "      <td>Inactive</td>\n",
       "      <td>FS</td>\n",
       "      <td>Eating &amp; Drinking</td>\n",
       "      <td>HE_Fail</td>\n",
       "      <td>1/3/2012 14:06</td>\n",
       "      <td>4</td>\n",
       "      <td>96</td>\n",
       "      <td>A</td>\n",
       "    </tr>\n",
       "    <tr>\n",
       "      <th>76</th>\n",
       "      <td>23720</td>\n",
       "      <td>12/9/2011 9:34</td>\n",
       "      <td>12/31/2014 23:59</td>\n",
       "      <td>Inactive</td>\n",
       "      <td>FS</td>\n",
       "      <td>Eating &amp; Drinking</td>\n",
       "      <td>HE_Fail</td>\n",
       "      <td>1/4/2012 14:11</td>\n",
       "      <td>4</td>\n",
       "      <td>96</td>\n",
       "      <td>A</td>\n",
       "    </tr>\n",
       "    <tr>\n",
       "      <th>...</th>\n",
       "      <td>...</td>\n",
       "      <td>...</td>\n",
       "      <td>...</td>\n",
       "      <td>...</td>\n",
       "      <td>...</td>\n",
       "      <td>...</td>\n",
       "      <td>...</td>\n",
       "      <td>...</td>\n",
       "      <td>...</td>\n",
       "      <td>...</td>\n",
       "      <td>...</td>\n",
       "    </tr>\n",
       "    <tr>\n",
       "      <th>71931</th>\n",
       "      <td>26455</td>\n",
       "      <td>3/5/2012 10:40</td>\n",
       "      <td>12/31/2018 23:59</td>\n",
       "      <td>Active</td>\n",
       "      <td>FT</td>\n",
       "      <td>Eating &amp; Drinking w/ Take Out</td>\n",
       "      <td>HE_Fail</td>\n",
       "      <td>6/19/2018 14:01</td>\n",
       "      <td>4</td>\n",
       "      <td>96</td>\n",
       "      <td>A</td>\n",
       "    </tr>\n",
       "    <tr>\n",
       "      <th>72088</th>\n",
       "      <td>160787</td>\n",
       "      <td>6/29/2016 8:54</td>\n",
       "      <td>12/31/2018 23:59</td>\n",
       "      <td>Active</td>\n",
       "      <td>FS</td>\n",
       "      <td>Eating &amp; Drinking</td>\n",
       "      <td>HE_Fail</td>\n",
       "      <td>6/25/2018 14:34</td>\n",
       "      <td>4</td>\n",
       "      <td>96</td>\n",
       "      <td>A</td>\n",
       "    </tr>\n",
       "    <tr>\n",
       "      <th>72101</th>\n",
       "      <td>365167</td>\n",
       "      <td>6/28/2018 9:31</td>\n",
       "      <td>12/31/2018 23:59</td>\n",
       "      <td>Active</td>\n",
       "      <td>FS</td>\n",
       "      <td>Eating &amp; Drinking</td>\n",
       "      <td>HE_Fail</td>\n",
       "      <td>6/26/2018 10:38</td>\n",
       "      <td>4</td>\n",
       "      <td>96</td>\n",
       "      <td>A</td>\n",
       "    </tr>\n",
       "    <tr>\n",
       "      <th>72124</th>\n",
       "      <td>24015</td>\n",
       "      <td>1/11/2012 8:25</td>\n",
       "      <td>12/31/2018 23:59</td>\n",
       "      <td>Active</td>\n",
       "      <td>RF</td>\n",
       "      <td>Retail Food</td>\n",
       "      <td>HE_Fail</td>\n",
       "      <td>6/26/2018 15:06</td>\n",
       "      <td>6</td>\n",
       "      <td>94</td>\n",
       "      <td>A</td>\n",
       "    </tr>\n",
       "    <tr>\n",
       "      <th>72153</th>\n",
       "      <td>311175</td>\n",
       "      <td>9/5/2017 9:54</td>\n",
       "      <td>12/31/2018 23:59</td>\n",
       "      <td>Active</td>\n",
       "      <td>FT</td>\n",
       "      <td>Eating &amp; Drinking w/ Take Out</td>\n",
       "      <td>HE_Fail</td>\n",
       "      <td>6/27/2018 13:39</td>\n",
       "      <td>6</td>\n",
       "      <td>94</td>\n",
       "      <td>A</td>\n",
       "    </tr>\n",
       "  </tbody>\n",
       "</table>\n",
       "<p>2405 rows × 11 columns</p>\n",
       "</div>"
      ],
      "text/plain": [
       "       licenseno           issdttm           expdttm licstatus licensecat  \\\n",
       "2          18086  12/27/2011 12:46  12/31/2011 23:59  Inactive         RF   \n",
       "23         21177    12/7/2011 9:45  12/31/2018 23:59    Active         RF   \n",
       "27         31976     1/3/2012 8:11  12/31/2018 23:59    Active         FS   \n",
       "37         77953    1/10/2012 9:32  12/31/2012 23:59  Inactive         FS   \n",
       "76         23720    12/9/2011 9:34  12/31/2014 23:59  Inactive         FS   \n",
       "...          ...               ...               ...       ...        ...   \n",
       "71931      26455    3/5/2012 10:40  12/31/2018 23:59    Active         FT   \n",
       "72088     160787    6/29/2016 8:54  12/31/2018 23:59    Active         FS   \n",
       "72101     365167    6/28/2018 9:31  12/31/2018 23:59    Active         FS   \n",
       "72124      24015    1/11/2012 8:25  12/31/2018 23:59    Active         RF   \n",
       "72153     311175     9/5/2017 9:54  12/31/2018 23:59    Active         FT   \n",
       "\n",
       "                            descript   result       resultdttm  \\\n",
       "2                        Retail Food  HE_Fail   1/3/2012 10:06   \n",
       "23                       Retail Food  HE_Fail   1/3/2012 11:59   \n",
       "27                 Eating & Drinking  HE_Fail   1/3/2012 12:31   \n",
       "37                 Eating & Drinking  HE_Fail   1/3/2012 14:06   \n",
       "76                 Eating & Drinking  HE_Fail   1/4/2012 14:11   \n",
       "...                              ...      ...              ...   \n",
       "71931  Eating & Drinking w/ Take Out  HE_Fail  6/19/2018 14:01   \n",
       "72088              Eating & Drinking  HE_Fail  6/25/2018 14:34   \n",
       "72101              Eating & Drinking  HE_Fail  6/26/2018 10:38   \n",
       "72124                    Retail Food  HE_Fail  6/26/2018 15:06   \n",
       "72153  Eating & Drinking w/ Take Out  HE_Fail  6/27/2018 13:39   \n",
       "\n",
       "       sum_violations  score grade  \n",
       "2                   6     94     A  \n",
       "23                  2     98     A  \n",
       "27                  4     96     A  \n",
       "37                  4     96     A  \n",
       "76                  4     96     A  \n",
       "...               ...    ...   ...  \n",
       "71931               4     96     A  \n",
       "72088               4     96     A  \n",
       "72101               4     96     A  \n",
       "72124               6     94     A  \n",
       "72153               6     94     A  \n",
       "\n",
       "[2405 rows x 11 columns]"
      ]
     },
     "execution_count": 27,
     "metadata": {},
     "output_type": "execute_result"
    }
   ],
   "source": [
    "grades[(grades['grade'] == \"A\")&(grades['result'] == \"HE_Fail\")]"
   ]
  },
  {
   "cell_type": "code",
   "execution_count": 28,
   "metadata": {
    "ExecuteTime": {
     "end_time": "2020-08-12T13:43:17.130424Z",
     "start_time": "2020-08-12T13:43:17.127780Z"
    }
   },
   "outputs": [],
   "source": [
    "#turns out you need a perfect score to pass -- why grades when you need a perfect score to pass?"
   ]
  },
  {
   "cell_type": "code",
   "execution_count": 29,
   "metadata": {
    "ExecuteTime": {
     "end_time": "2020-08-12T13:43:17.149643Z",
     "start_time": "2020-08-12T13:43:17.132655Z"
    }
   },
   "outputs": [
    {
     "data": {
      "text/html": [
       "<div>\n",
       "<style scoped>\n",
       "    .dataframe tbody tr th:only-of-type {\n",
       "        vertical-align: middle;\n",
       "    }\n",
       "\n",
       "    .dataframe tbody tr th {\n",
       "        vertical-align: top;\n",
       "    }\n",
       "\n",
       "    .dataframe thead th {\n",
       "        text-align: right;\n",
       "    }\n",
       "</style>\n",
       "<table border=\"1\" class=\"dataframe\">\n",
       "  <thead>\n",
       "    <tr style=\"text-align: right;\">\n",
       "      <th></th>\n",
       "      <th>licenseno</th>\n",
       "      <th>issdttm</th>\n",
       "      <th>expdttm</th>\n",
       "      <th>licstatus</th>\n",
       "      <th>licensecat</th>\n",
       "      <th>descript</th>\n",
       "      <th>result</th>\n",
       "      <th>resultdttm</th>\n",
       "      <th>sum_violations</th>\n",
       "      <th>score</th>\n",
       "      <th>grade</th>\n",
       "    </tr>\n",
       "  </thead>\n",
       "  <tbody>\n",
       "    <tr>\n",
       "      <th>2956</th>\n",
       "      <td>23923</td>\n",
       "      <td>1/9/2012 14:38</td>\n",
       "      <td>12/31/2018 23:59</td>\n",
       "      <td>Active</td>\n",
       "      <td>FS</td>\n",
       "      <td>Eating &amp; Drinking</td>\n",
       "      <td>HE_Pass</td>\n",
       "      <td>4/11/2012 14:44</td>\n",
       "      <td>2</td>\n",
       "      <td>98</td>\n",
       "      <td>A</td>\n",
       "    </tr>\n",
       "    <tr>\n",
       "      <th>59081</th>\n",
       "      <td>137353</td>\n",
       "      <td>11/21/2014 15:05</td>\n",
       "      <td>12/31/2018 23:59</td>\n",
       "      <td>Active</td>\n",
       "      <td>FT</td>\n",
       "      <td>Eating &amp; Drinking w/ Take Out</td>\n",
       "      <td>HE_Pass</td>\n",
       "      <td>4/10/2017 13:51</td>\n",
       "      <td>12</td>\n",
       "      <td>88</td>\n",
       "      <td>B</td>\n",
       "    </tr>\n",
       "  </tbody>\n",
       "</table>\n",
       "</div>"
      ],
      "text/plain": [
       "       licenseno           issdttm           expdttm licstatus licensecat  \\\n",
       "2956       23923    1/9/2012 14:38  12/31/2018 23:59    Active         FS   \n",
       "59081     137353  11/21/2014 15:05  12/31/2018 23:59    Active         FT   \n",
       "\n",
       "                            descript   result       resultdttm  \\\n",
       "2956               Eating & Drinking  HE_Pass  4/11/2012 14:44   \n",
       "59081  Eating & Drinking w/ Take Out  HE_Pass  4/10/2017 13:51   \n",
       "\n",
       "       sum_violations  score grade  \n",
       "2956                2     98     A  \n",
       "59081              12     88     B  "
      ]
     },
     "execution_count": 29,
     "metadata": {},
     "output_type": "execute_result"
    }
   ],
   "source": [
    "grades[(grades['result'] == \"HE_Pass\")&(grades['sum_violations']!=0)]"
   ]
  },
  {
   "cell_type": "code",
   "execution_count": 30,
   "metadata": {
    "ExecuteTime": {
     "end_time": "2020-08-12T13:43:17.153572Z",
     "start_time": "2020-08-12T13:43:17.151455Z"
    }
   },
   "outputs": [],
   "source": [
    "#mistake?"
   ]
  },
  {
   "cell_type": "code",
   "execution_count": null,
   "metadata": {},
   "outputs": [],
   "source": []
  },
  {
   "cell_type": "code",
   "execution_count": 31,
   "metadata": {
    "ExecuteTime": {
     "end_time": "2020-08-12T13:43:17.157457Z",
     "start_time": "2020-08-12T13:43:17.155344Z"
    }
   },
   "outputs": [],
   "source": [
    "#trends over time?\n",
    "#make columns into datetime objects"
   ]
  },
  {
   "cell_type": "code",
   "execution_count": 32,
   "metadata": {
    "ExecuteTime": {
     "end_time": "2020-08-12T13:43:17.163704Z",
     "start_time": "2020-08-12T13:43:17.159915Z"
    }
   },
   "outputs": [],
   "source": [
    "def make_datetime(x):\n",
    "    if x == \" \":\n",
    "        return np.NaN\n",
    "    return datetime.strptime(x, \"%m/%d/%Y %H:%M\")"
   ]
  },
  {
   "cell_type": "code",
   "execution_count": 33,
   "metadata": {
    "ExecuteTime": {
     "end_time": "2020-08-12T13:43:17.192304Z",
     "start_time": "2020-08-12T13:43:17.166826Z"
    }
   },
   "outputs": [
    {
     "data": {
      "text/html": [
       "<div>\n",
       "<style scoped>\n",
       "    .dataframe tbody tr th:only-of-type {\n",
       "        vertical-align: middle;\n",
       "    }\n",
       "\n",
       "    .dataframe tbody tr th {\n",
       "        vertical-align: top;\n",
       "    }\n",
       "\n",
       "    .dataframe thead th {\n",
       "        text-align: right;\n",
       "    }\n",
       "</style>\n",
       "<table border=\"1\" class=\"dataframe\">\n",
       "  <thead>\n",
       "    <tr style=\"text-align: right;\">\n",
       "      <th></th>\n",
       "      <th>licenseno</th>\n",
       "      <th>issdttm</th>\n",
       "      <th>expdttm</th>\n",
       "      <th>licstatus</th>\n",
       "      <th>licensecat</th>\n",
       "      <th>descript</th>\n",
       "      <th>result</th>\n",
       "      <th>resultdttm</th>\n",
       "      <th>sum_violations</th>\n",
       "      <th>score</th>\n",
       "      <th>grade</th>\n",
       "    </tr>\n",
       "  </thead>\n",
       "  <tbody>\n",
       "    <tr>\n",
       "      <th>15237</th>\n",
       "      <td>86678</td>\n",
       "      <td></td>\n",
       "      <td></td>\n",
       "      <td>Inactive</td>\n",
       "      <td>RF</td>\n",
       "      <td>Retail Food</td>\n",
       "      <td>HE_Fail</td>\n",
       "      <td>1/16/2013 13:10</td>\n",
       "      <td>9</td>\n",
       "      <td>91</td>\n",
       "      <td>B</td>\n",
       "    </tr>\n",
       "    <tr>\n",
       "      <th>15683</th>\n",
       "      <td>86678</td>\n",
       "      <td></td>\n",
       "      <td></td>\n",
       "      <td>Inactive</td>\n",
       "      <td>RF</td>\n",
       "      <td>Retail Food</td>\n",
       "      <td>HE_Pass</td>\n",
       "      <td>1/31/2013 13:48</td>\n",
       "      <td>0</td>\n",
       "      <td>100</td>\n",
       "      <td>A</td>\n",
       "    </tr>\n",
       "    <tr>\n",
       "      <th>17617</th>\n",
       "      <td>90297</td>\n",
       "      <td></td>\n",
       "      <td></td>\n",
       "      <td>Inactive</td>\n",
       "      <td>FS</td>\n",
       "      <td>Eating &amp; Drinking</td>\n",
       "      <td>HE_Fail</td>\n",
       "      <td>4/10/2013 11:26</td>\n",
       "      <td>16</td>\n",
       "      <td>84</td>\n",
       "      <td>B</td>\n",
       "    </tr>\n",
       "    <tr>\n",
       "      <th>17760</th>\n",
       "      <td>90297</td>\n",
       "      <td></td>\n",
       "      <td></td>\n",
       "      <td>Inactive</td>\n",
       "      <td>FS</td>\n",
       "      <td>Eating &amp; Drinking</td>\n",
       "      <td>HE_Hearing</td>\n",
       "      <td>4/17/2013 10:43</td>\n",
       "      <td>16</td>\n",
       "      <td>84</td>\n",
       "      <td>B</td>\n",
       "    </tr>\n",
       "    <tr>\n",
       "      <th>18272</th>\n",
       "      <td>90297</td>\n",
       "      <td></td>\n",
       "      <td></td>\n",
       "      <td>Inactive</td>\n",
       "      <td>FS</td>\n",
       "      <td>Eating &amp; Drinking</td>\n",
       "      <td>HE_Pass</td>\n",
       "      <td>5/8/2013 13:40</td>\n",
       "      <td>0</td>\n",
       "      <td>100</td>\n",
       "      <td>A</td>\n",
       "    </tr>\n",
       "    <tr>\n",
       "      <th>23100</th>\n",
       "      <td>79021</td>\n",
       "      <td></td>\n",
       "      <td></td>\n",
       "      <td>Inactive</td>\n",
       "      <td>FT</td>\n",
       "      <td>Eating &amp; Drinking w/ Take Out</td>\n",
       "      <td>HE_TSOP</td>\n",
       "      <td>11/22/2013 10:37</td>\n",
       "      <td>14</td>\n",
       "      <td>86</td>\n",
       "      <td>B</td>\n",
       "    </tr>\n",
       "    <tr>\n",
       "      <th>37341</th>\n",
       "      <td>141356</td>\n",
       "      <td></td>\n",
       "      <td></td>\n",
       "      <td>Inactive</td>\n",
       "      <td>RF</td>\n",
       "      <td>Retail Food</td>\n",
       "      <td>HE_Fail</td>\n",
       "      <td>3/20/2015 12:31</td>\n",
       "      <td>8</td>\n",
       "      <td>92</td>\n",
       "      <td>B</td>\n",
       "    </tr>\n",
       "    <tr>\n",
       "      <th>37545</th>\n",
       "      <td>141356</td>\n",
       "      <td></td>\n",
       "      <td></td>\n",
       "      <td>Inactive</td>\n",
       "      <td>RF</td>\n",
       "      <td>Retail Food</td>\n",
       "      <td>HE_OutBus</td>\n",
       "      <td>3/27/2015 13:29</td>\n",
       "      <td>8</td>\n",
       "      <td>92</td>\n",
       "      <td>B</td>\n",
       "    </tr>\n",
       "    <tr>\n",
       "      <th>44888</th>\n",
       "      <td>158413</td>\n",
       "      <td></td>\n",
       "      <td></td>\n",
       "      <td>Inactive</td>\n",
       "      <td>RF</td>\n",
       "      <td>Retail Food</td>\n",
       "      <td>HE_Pass</td>\n",
       "      <td>12/9/2015 11:51</td>\n",
       "      <td>0</td>\n",
       "      <td>100</td>\n",
       "      <td>A</td>\n",
       "    </tr>\n",
       "    <tr>\n",
       "      <th>44889</th>\n",
       "      <td>158254</td>\n",
       "      <td></td>\n",
       "      <td></td>\n",
       "      <td>Inactive</td>\n",
       "      <td>RF</td>\n",
       "      <td>Retail Food</td>\n",
       "      <td>HE_Pass</td>\n",
       "      <td>12/9/2015 12:00</td>\n",
       "      <td>0</td>\n",
       "      <td>100</td>\n",
       "      <td>A</td>\n",
       "    </tr>\n",
       "    <tr>\n",
       "      <th>52246</th>\n",
       "      <td>201259</td>\n",
       "      <td></td>\n",
       "      <td></td>\n",
       "      <td>Inactive</td>\n",
       "      <td>RF</td>\n",
       "      <td>Retail Food</td>\n",
       "      <td>HE_Fail</td>\n",
       "      <td>8/17/2016 14:03</td>\n",
       "      <td>10</td>\n",
       "      <td>90</td>\n",
       "      <td>B</td>\n",
       "    </tr>\n",
       "    <tr>\n",
       "      <th>52784</th>\n",
       "      <td>201259</td>\n",
       "      <td></td>\n",
       "      <td></td>\n",
       "      <td>Inactive</td>\n",
       "      <td>RF</td>\n",
       "      <td>Retail Food</td>\n",
       "      <td>HE_FailExt</td>\n",
       "      <td>9/1/2016 14:14</td>\n",
       "      <td>10</td>\n",
       "      <td>90</td>\n",
       "      <td>B</td>\n",
       "    </tr>\n",
       "    <tr>\n",
       "      <th>57432</th>\n",
       "      <td>169550</td>\n",
       "      <td></td>\n",
       "      <td></td>\n",
       "      <td>Active</td>\n",
       "      <td>MFW</td>\n",
       "      <td>Mobile Food Walk On</td>\n",
       "      <td>HE_NotReq</td>\n",
       "      <td>2/7/2017 14:38</td>\n",
       "      <td>0</td>\n",
       "      <td>100</td>\n",
       "      <td>A</td>\n",
       "    </tr>\n",
       "    <tr>\n",
       "      <th>62054</th>\n",
       "      <td>338840</td>\n",
       "      <td></td>\n",
       "      <td></td>\n",
       "      <td>Active</td>\n",
       "      <td>RF</td>\n",
       "      <td>Retail Food</td>\n",
       "      <td>HE_Pass</td>\n",
       "      <td>7/31/2017 8:55</td>\n",
       "      <td>0</td>\n",
       "      <td>100</td>\n",
       "      <td>A</td>\n",
       "    </tr>\n",
       "    <tr>\n",
       "      <th>68804</th>\n",
       "      <td>348727</td>\n",
       "      <td></td>\n",
       "      <td></td>\n",
       "      <td>Active</td>\n",
       "      <td>FS</td>\n",
       "      <td>Eating &amp; Drinking</td>\n",
       "      <td>HE_Fail</td>\n",
       "      <td>3/14/2018 10:54</td>\n",
       "      <td>24</td>\n",
       "      <td>76</td>\n",
       "      <td>C</td>\n",
       "    </tr>\n",
       "    <tr>\n",
       "      <th>69298</th>\n",
       "      <td>348727</td>\n",
       "      <td></td>\n",
       "      <td></td>\n",
       "      <td>Active</td>\n",
       "      <td>FS</td>\n",
       "      <td>Eating &amp; Drinking</td>\n",
       "      <td>HE_Pass</td>\n",
       "      <td>3/28/2018 12:00</td>\n",
       "      <td>0</td>\n",
       "      <td>100</td>\n",
       "      <td>A</td>\n",
       "    </tr>\n",
       "    <tr>\n",
       "      <th>69682</th>\n",
       "      <td>360194</td>\n",
       "      <td></td>\n",
       "      <td></td>\n",
       "      <td>Active</td>\n",
       "      <td>FT</td>\n",
       "      <td>Eating &amp; Drinking w/ Take Out</td>\n",
       "      <td>HE_Fail</td>\n",
       "      <td>4/9/2018 7:54</td>\n",
       "      <td>26</td>\n",
       "      <td>74</td>\n",
       "      <td>C</td>\n",
       "    </tr>\n",
       "    <tr>\n",
       "      <th>70184</th>\n",
       "      <td>360194</td>\n",
       "      <td></td>\n",
       "      <td></td>\n",
       "      <td>Active</td>\n",
       "      <td>FT</td>\n",
       "      <td>Eating &amp; Drinking w/ Take Out</td>\n",
       "      <td>HE_Hearing</td>\n",
       "      <td>4/23/2018 9:08</td>\n",
       "      <td>16</td>\n",
       "      <td>84</td>\n",
       "      <td>B</td>\n",
       "    </tr>\n",
       "    <tr>\n",
       "      <th>70505</th>\n",
       "      <td>360194</td>\n",
       "      <td></td>\n",
       "      <td></td>\n",
       "      <td>Active</td>\n",
       "      <td>FT</td>\n",
       "      <td>Eating &amp; Drinking w/ Take Out</td>\n",
       "      <td>HE_Filed</td>\n",
       "      <td>4/30/2018 14:03</td>\n",
       "      <td>4</td>\n",
       "      <td>96</td>\n",
       "      <td>A</td>\n",
       "    </tr>\n",
       "    <tr>\n",
       "      <th>71006</th>\n",
       "      <td>362261</td>\n",
       "      <td></td>\n",
       "      <td></td>\n",
       "      <td>Active</td>\n",
       "      <td>RF</td>\n",
       "      <td>Retail Food</td>\n",
       "      <td>HE_Fail</td>\n",
       "      <td>5/15/2018 8:54</td>\n",
       "      <td>12</td>\n",
       "      <td>88</td>\n",
       "      <td>B</td>\n",
       "    </tr>\n",
       "    <tr>\n",
       "      <th>71191</th>\n",
       "      <td>362261</td>\n",
       "      <td></td>\n",
       "      <td></td>\n",
       "      <td>Active</td>\n",
       "      <td>RF</td>\n",
       "      <td>Retail Food</td>\n",
       "      <td>HE_FailExt</td>\n",
       "      <td>5/22/2018 8:55</td>\n",
       "      <td>8</td>\n",
       "      <td>92</td>\n",
       "      <td>B</td>\n",
       "    </tr>\n",
       "    <tr>\n",
       "      <th>71532</th>\n",
       "      <td>362261</td>\n",
       "      <td></td>\n",
       "      <td></td>\n",
       "      <td>Active</td>\n",
       "      <td>RF</td>\n",
       "      <td>Retail Food</td>\n",
       "      <td>HE_Pass</td>\n",
       "      <td>6/5/2018 9:25</td>\n",
       "      <td>0</td>\n",
       "      <td>100</td>\n",
       "      <td>A</td>\n",
       "    </tr>\n",
       "    <tr>\n",
       "      <th>71686</th>\n",
       "      <td>365297</td>\n",
       "      <td></td>\n",
       "      <td></td>\n",
       "      <td>Active</td>\n",
       "      <td>RF</td>\n",
       "      <td>Retail Food</td>\n",
       "      <td>HE_Fail</td>\n",
       "      <td>6/11/2018 8:39</td>\n",
       "      <td>8</td>\n",
       "      <td>92</td>\n",
       "      <td>B</td>\n",
       "    </tr>\n",
       "    <tr>\n",
       "      <th>71864</th>\n",
       "      <td>366157</td>\n",
       "      <td></td>\n",
       "      <td></td>\n",
       "      <td>Active</td>\n",
       "      <td>FT</td>\n",
       "      <td>Eating &amp; Drinking w/ Take Out</td>\n",
       "      <td>HE_Fail</td>\n",
       "      <td>6/15/2018 9:07</td>\n",
       "      <td>80</td>\n",
       "      <td>20</td>\n",
       "      <td>C</td>\n",
       "    </tr>\n",
       "    <tr>\n",
       "      <th>71905</th>\n",
       "      <td>365297</td>\n",
       "      <td></td>\n",
       "      <td></td>\n",
       "      <td>Active</td>\n",
       "      <td>RF</td>\n",
       "      <td>Retail Food</td>\n",
       "      <td>HE_Pass</td>\n",
       "      <td>6/18/2018 14:28</td>\n",
       "      <td>0</td>\n",
       "      <td>100</td>\n",
       "      <td>A</td>\n",
       "    </tr>\n",
       "    <tr>\n",
       "      <th>71948</th>\n",
       "      <td>366157</td>\n",
       "      <td></td>\n",
       "      <td></td>\n",
       "      <td>Active</td>\n",
       "      <td>FT</td>\n",
       "      <td>Eating &amp; Drinking w/ Take Out</td>\n",
       "      <td>HE_FailExt</td>\n",
       "      <td>6/20/2018 9:14</td>\n",
       "      <td>10</td>\n",
       "      <td>90</td>\n",
       "      <td>B</td>\n",
       "    </tr>\n",
       "    <tr>\n",
       "      <th>72162</th>\n",
       "      <td>360195</td>\n",
       "      <td></td>\n",
       "      <td></td>\n",
       "      <td>Active</td>\n",
       "      <td>FT</td>\n",
       "      <td>Eating &amp; Drinking w/ Take Out</td>\n",
       "      <td>HE_Fail</td>\n",
       "      <td>6/28/2018 8:32</td>\n",
       "      <td>59</td>\n",
       "      <td>41</td>\n",
       "      <td>C</td>\n",
       "    </tr>\n",
       "    <tr>\n",
       "      <th>72195</th>\n",
       "      <td>360195</td>\n",
       "      <td></td>\n",
       "      <td></td>\n",
       "      <td>Active</td>\n",
       "      <td>FT</td>\n",
       "      <td>Eating &amp; Drinking w/ Take Out</td>\n",
       "      <td>HE_FailExt</td>\n",
       "      <td>6/28/2018 13:55</td>\n",
       "      <td>6</td>\n",
       "      <td>94</td>\n",
       "      <td>A</td>\n",
       "    </tr>\n",
       "    <tr>\n",
       "      <th>72224</th>\n",
       "      <td>366849</td>\n",
       "      <td></td>\n",
       "      <td></td>\n",
       "      <td>Active</td>\n",
       "      <td>FS</td>\n",
       "      <td>Eating &amp; Drinking</td>\n",
       "      <td>HE_Fail</td>\n",
       "      <td>6/29/2018 12:37</td>\n",
       "      <td>18</td>\n",
       "      <td>82</td>\n",
       "      <td>B</td>\n",
       "    </tr>\n",
       "    <tr>\n",
       "      <th>72235</th>\n",
       "      <td>349261</td>\n",
       "      <td></td>\n",
       "      <td></td>\n",
       "      <td>Active</td>\n",
       "      <td>FT</td>\n",
       "      <td>Eating &amp; Drinking w/ Take Out</td>\n",
       "      <td>HE_Fail</td>\n",
       "      <td>6/29/2018 14:24</td>\n",
       "      <td>38</td>\n",
       "      <td>62</td>\n",
       "      <td>C</td>\n",
       "    </tr>\n",
       "  </tbody>\n",
       "</table>\n",
       "</div>"
      ],
      "text/plain": [
       "       licenseno issdttm expdttm licstatus licensecat  \\\n",
       "15237      86678                  Inactive         RF   \n",
       "15683      86678                  Inactive         RF   \n",
       "17617      90297                  Inactive         FS   \n",
       "17760      90297                  Inactive         FS   \n",
       "18272      90297                  Inactive         FS   \n",
       "23100      79021                  Inactive         FT   \n",
       "37341     141356                  Inactive         RF   \n",
       "37545     141356                  Inactive         RF   \n",
       "44888     158413                  Inactive         RF   \n",
       "44889     158254                  Inactive         RF   \n",
       "52246     201259                  Inactive         RF   \n",
       "52784     201259                  Inactive         RF   \n",
       "57432     169550                    Active        MFW   \n",
       "62054     338840                    Active         RF   \n",
       "68804     348727                    Active         FS   \n",
       "69298     348727                    Active         FS   \n",
       "69682     360194                    Active         FT   \n",
       "70184     360194                    Active         FT   \n",
       "70505     360194                    Active         FT   \n",
       "71006     362261                    Active         RF   \n",
       "71191     362261                    Active         RF   \n",
       "71532     362261                    Active         RF   \n",
       "71686     365297                    Active         RF   \n",
       "71864     366157                    Active         FT   \n",
       "71905     365297                    Active         RF   \n",
       "71948     366157                    Active         FT   \n",
       "72162     360195                    Active         FT   \n",
       "72195     360195                    Active         FT   \n",
       "72224     366849                    Active         FS   \n",
       "72235     349261                    Active         FT   \n",
       "\n",
       "                            descript      result        resultdttm  \\\n",
       "15237                    Retail Food     HE_Fail   1/16/2013 13:10   \n",
       "15683                    Retail Food     HE_Pass   1/31/2013 13:48   \n",
       "17617              Eating & Drinking     HE_Fail   4/10/2013 11:26   \n",
       "17760              Eating & Drinking  HE_Hearing   4/17/2013 10:43   \n",
       "18272              Eating & Drinking     HE_Pass    5/8/2013 13:40   \n",
       "23100  Eating & Drinking w/ Take Out     HE_TSOP  11/22/2013 10:37   \n",
       "37341                    Retail Food     HE_Fail   3/20/2015 12:31   \n",
       "37545                    Retail Food   HE_OutBus   3/27/2015 13:29   \n",
       "44888                    Retail Food     HE_Pass   12/9/2015 11:51   \n",
       "44889                    Retail Food     HE_Pass   12/9/2015 12:00   \n",
       "52246                    Retail Food     HE_Fail   8/17/2016 14:03   \n",
       "52784                    Retail Food  HE_FailExt    9/1/2016 14:14   \n",
       "57432            Mobile Food Walk On   HE_NotReq    2/7/2017 14:38   \n",
       "62054                    Retail Food     HE_Pass    7/31/2017 8:55   \n",
       "68804              Eating & Drinking     HE_Fail   3/14/2018 10:54   \n",
       "69298              Eating & Drinking     HE_Pass   3/28/2018 12:00   \n",
       "69682  Eating & Drinking w/ Take Out     HE_Fail     4/9/2018 7:54   \n",
       "70184  Eating & Drinking w/ Take Out  HE_Hearing    4/23/2018 9:08   \n",
       "70505  Eating & Drinking w/ Take Out    HE_Filed   4/30/2018 14:03   \n",
       "71006                    Retail Food     HE_Fail    5/15/2018 8:54   \n",
       "71191                    Retail Food  HE_FailExt    5/22/2018 8:55   \n",
       "71532                    Retail Food     HE_Pass     6/5/2018 9:25   \n",
       "71686                    Retail Food     HE_Fail    6/11/2018 8:39   \n",
       "71864  Eating & Drinking w/ Take Out     HE_Fail    6/15/2018 9:07   \n",
       "71905                    Retail Food     HE_Pass   6/18/2018 14:28   \n",
       "71948  Eating & Drinking w/ Take Out  HE_FailExt    6/20/2018 9:14   \n",
       "72162  Eating & Drinking w/ Take Out     HE_Fail    6/28/2018 8:32   \n",
       "72195  Eating & Drinking w/ Take Out  HE_FailExt   6/28/2018 13:55   \n",
       "72224              Eating & Drinking     HE_Fail   6/29/2018 12:37   \n",
       "72235  Eating & Drinking w/ Take Out     HE_Fail   6/29/2018 14:24   \n",
       "\n",
       "       sum_violations  score grade  \n",
       "15237               9     91     B  \n",
       "15683               0    100     A  \n",
       "17617              16     84     B  \n",
       "17760              16     84     B  \n",
       "18272               0    100     A  \n",
       "23100              14     86     B  \n",
       "37341               8     92     B  \n",
       "37545               8     92     B  \n",
       "44888               0    100     A  \n",
       "44889               0    100     A  \n",
       "52246              10     90     B  \n",
       "52784              10     90     B  \n",
       "57432               0    100     A  \n",
       "62054               0    100     A  \n",
       "68804              24     76     C  \n",
       "69298               0    100     A  \n",
       "69682              26     74     C  \n",
       "70184              16     84     B  \n",
       "70505               4     96     A  \n",
       "71006              12     88     B  \n",
       "71191               8     92     B  \n",
       "71532               0    100     A  \n",
       "71686               8     92     B  \n",
       "71864              80     20     C  \n",
       "71905               0    100     A  \n",
       "71948              10     90     B  \n",
       "72162              59     41     C  \n",
       "72195               6     94     A  \n",
       "72224              18     82     B  \n",
       "72235              38     62     C  "
      ]
     },
     "execution_count": 33,
     "metadata": {},
     "output_type": "execute_result"
    }
   ],
   "source": [
    "grades[grades[\"issdttm\"]== \" \"] "
   ]
  },
  {
   "cell_type": "code",
   "execution_count": 34,
   "metadata": {
    "ExecuteTime": {
     "end_time": "2020-08-12T13:43:17.819319Z",
     "start_time": "2020-08-12T13:43:17.193995Z"
    }
   },
   "outputs": [],
   "source": [
    "grades[\"issdttm\"] = grades[\"issdttm\"].apply(make_datetime)"
   ]
  },
  {
   "cell_type": "code",
   "execution_count": 35,
   "metadata": {
    "ExecuteTime": {
     "end_time": "2020-08-12T13:43:17.846066Z",
     "start_time": "2020-08-12T13:43:17.821598Z"
    }
   },
   "outputs": [
    {
     "name": "stdout",
     "output_type": "stream",
     "text": [
      "<class 'pandas.core.frame.DataFrame'>\n",
      "RangeIndex: 72243 entries, 0 to 72242\n",
      "Data columns (total 11 columns):\n",
      "licenseno         72243 non-null int64\n",
      "issdttm           72213 non-null datetime64[ns]\n",
      "expdttm           72243 non-null object\n",
      "licstatus         72243 non-null object\n",
      "licensecat        72243 non-null object\n",
      "descript          72243 non-null object\n",
      "result            72243 non-null object\n",
      "resultdttm        72243 non-null object\n",
      "sum_violations    72243 non-null int64\n",
      "score             72243 non-null int64\n",
      "grade             72243 non-null object\n",
      "dtypes: datetime64[ns](1), int64(3), object(7)\n",
      "memory usage: 6.1+ MB\n"
     ]
    }
   ],
   "source": [
    "grades.info()"
   ]
  },
  {
   "cell_type": "code",
   "execution_count": 36,
   "metadata": {
    "ExecuteTime": {
     "end_time": "2020-08-12T13:43:18.452112Z",
     "start_time": "2020-08-12T13:43:17.847876Z"
    }
   },
   "outputs": [],
   "source": [
    "grades[\"expdttm\"] = grades[\"expdttm\"].apply(make_datetime)"
   ]
  },
  {
   "cell_type": "code",
   "execution_count": 37,
   "metadata": {
    "ExecuteTime": {
     "end_time": "2020-08-12T13:43:19.035921Z",
     "start_time": "2020-08-12T13:43:18.454469Z"
    }
   },
   "outputs": [],
   "source": [
    "grades[\"resultdttm\"] = grades[\"resultdttm\"].apply(make_datetime)"
   ]
  },
  {
   "cell_type": "code",
   "execution_count": 38,
   "metadata": {
    "ExecuteTime": {
     "end_time": "2020-08-12T13:43:19.041192Z",
     "start_time": "2020-08-12T13:43:19.038593Z"
    }
   },
   "outputs": [],
   "source": [
    "#make categorical variables into dummies or logitudinal? -- could change grades and result?"
   ]
  },
  {
   "cell_type": "markdown",
   "metadata": {
    "ExecuteTime": {
     "end_time": "2020-08-12T05:26:33.217170Z",
     "start_time": "2020-08-12T05:26:33.214713Z"
    }
   },
   "source": [
    "## Do poorly performing restaurants have a different type distribution?"
   ]
  },
  {
   "cell_type": "code",
   "execution_count": 39,
   "metadata": {
    "ExecuteTime": {
     "end_time": "2020-08-12T13:43:19.056797Z",
     "start_time": "2020-08-12T13:43:19.043660Z"
    }
   },
   "outputs": [],
   "source": [
    "c = grades[grades['grade']== \"C\"]"
   ]
  },
  {
   "cell_type": "code",
   "execution_count": 40,
   "metadata": {
    "ExecuteTime": {
     "end_time": "2020-08-12T13:43:19.062859Z",
     "start_time": "2020-08-12T13:43:19.058641Z"
    }
   },
   "outputs": [],
   "source": [
    "over_100 = grades[grades[\"sum_violations\"] > 100]"
   ]
  },
  {
   "cell_type": "code",
   "execution_count": 41,
   "metadata": {
    "ExecuteTime": {
     "end_time": "2020-08-12T13:43:19.245353Z",
     "start_time": "2020-08-12T13:43:19.064594Z"
    }
   },
   "outputs": [
    {
     "data": {
      "text/plain": [
       "Eating & Drinking                0.426062\n",
       "Eating & Drinking w/ Take Out    0.373337\n",
       "Retail Food                      0.181208\n",
       "Mobile Food Walk On              0.019393\n",
       "Name: descript, dtype: float64"
      ]
     },
     "execution_count": 41,
     "metadata": {},
     "output_type": "execute_result"
    }
   ],
   "source": [
    "grades[\"descript\"].value_counts(normalize = True)"
   ]
  },
  {
   "cell_type": "code",
   "execution_count": 42,
   "metadata": {
    "ExecuteTime": {
     "end_time": "2020-08-12T13:43:19.254418Z",
     "start_time": "2020-08-12T13:43:19.247357Z"
    }
   },
   "outputs": [
    {
     "data": {
      "text/plain": [
       "Eating & Drinking                0.491333\n",
       "Eating & Drinking w/ Take Out    0.389702\n",
       "Retail Food                      0.102308\n",
       "Mobile Food Walk On              0.016657\n",
       "Name: descript, dtype: float64"
      ]
     },
     "execution_count": 42,
     "metadata": {},
     "output_type": "execute_result"
    }
   ],
   "source": [
    "c[\"descript\"].value_counts(normalize = True)"
   ]
  },
  {
   "cell_type": "code",
   "execution_count": 43,
   "metadata": {
    "ExecuteTime": {
     "end_time": "2020-08-12T13:43:19.262774Z",
     "start_time": "2020-08-12T13:43:19.256410Z"
    }
   },
   "outputs": [
    {
     "data": {
      "text/plain": [
       "Eating & Drinking                0.595238\n",
       "Eating & Drinking w/ Take Out    0.371429\n",
       "Retail Food                      0.033333\n",
       "Name: descript, dtype: float64"
      ]
     },
     "execution_count": 43,
     "metadata": {},
     "output_type": "execute_result"
    }
   ],
   "source": [
    "over_100[\"descript\"].value_counts(normalize = True)"
   ]
  },
  {
   "cell_type": "markdown",
   "metadata": {},
   "source": [
    "More just \"eating and drinking\" in the poor performers than the overall dataset -- city should concentrate more resources on these establishments? Do statistical test to see if it's significant before making recommendations."
   ]
  },
  {
   "cell_type": "markdown",
   "metadata": {
    "ExecuteTime": {
     "end_time": "2020-08-09T21:29:26.116950Z",
     "start_time": "2020-08-09T21:29:26.114593Z"
    }
   },
   "source": [
    "## Are poorly performing restaurants inspected more regularly?"
   ]
  },
  {
   "cell_type": "code",
   "execution_count": 44,
   "metadata": {
    "ExecuteTime": {
     "end_time": "2020-08-12T13:43:19.266683Z",
     "start_time": "2020-08-12T13:43:19.264656Z"
    }
   },
   "outputs": [],
   "source": [
    "#how often do poorly performing restaurants get inspected?"
   ]
  },
  {
   "cell_type": "code",
   "execution_count": 45,
   "metadata": {
    "ExecuteTime": {
     "end_time": "2020-08-12T13:43:19.270230Z",
     "start_time": "2020-08-12T13:43:19.268260Z"
    }
   },
   "outputs": [],
   "source": [
    "#average number of times each grade of restaurant is inspected"
   ]
  },
  {
   "cell_type": "code",
   "execution_count": 46,
   "metadata": {
    "ExecuteTime": {
     "end_time": "2020-08-12T13:43:19.288836Z",
     "start_time": "2020-08-12T13:43:19.271731Z"
    }
   },
   "outputs": [
    {
     "name": "stdout",
     "output_type": "stream",
     "text": [
      "3.379142857142857\n",
      "2.0\n"
     ]
    }
   ],
   "source": [
    "print(grades['licenseno'][grades['grade'] == \"C\"].value_counts().mean())\n",
    "print(grades['licenseno'][grades['grade'] == \"C\"].value_counts().median())"
   ]
  },
  {
   "cell_type": "code",
   "execution_count": 47,
   "metadata": {
    "ExecuteTime": {
     "end_time": "2020-08-12T13:43:19.307920Z",
     "start_time": "2020-08-12T13:43:19.290989Z"
    }
   },
   "outputs": [
    {
     "name": "stdout",
     "output_type": "stream",
     "text": [
      "2.659644670050761\n",
      "2.0\n"
     ]
    }
   ],
   "source": [
    "print(grades['licenseno'][grades['grade'] == \"B\"].value_counts().mean())\n",
    "print(grades['licenseno'][grades['grade'] == \"B\"].value_counts().median())"
   ]
  },
  {
   "cell_type": "code",
   "execution_count": 48,
   "metadata": {
    "ExecuteTime": {
     "end_time": "2020-08-12T13:43:19.328430Z",
     "start_time": "2020-08-12T13:43:19.309681Z"
    }
   },
   "outputs": [
    {
     "name": "stdout",
     "output_type": "stream",
     "text": [
      "6.615048350774937\n",
      "6.0\n"
     ]
    }
   ],
   "source": [
    "print(grades['licenseno'][grades['grade'] == \"A\"].value_counts().mean())\n",
    "print(grades['licenseno'][grades['grade'] == \"A\"].value_counts().median())"
   ]
  },
  {
   "cell_type": "code",
   "execution_count": 49,
   "metadata": {
    "ExecuteTime": {
     "end_time": "2020-08-12T13:43:19.333185Z",
     "start_time": "2020-08-12T13:43:19.330712Z"
    }
   },
   "outputs": [],
   "source": [
    "# Restaurants with \"A\" grades are inspected much more, but is that just because they stay in business longer?"
   ]
  },
  {
   "cell_type": "code",
   "execution_count": 50,
   "metadata": {
    "ExecuteTime": {
     "end_time": "2020-08-12T13:43:19.338211Z",
     "start_time": "2020-08-12T13:43:19.335775Z"
    }
   },
   "outputs": [],
   "source": [
    "#look at average inspections in a year?"
   ]
  },
  {
   "cell_type": "code",
   "execution_count": 51,
   "metadata": {
    "ExecuteTime": {
     "end_time": "2020-08-12T13:43:19.579262Z",
     "start_time": "2020-08-12T13:43:19.339903Z"
    }
   },
   "outputs": [],
   "source": [
    "grades_2017 = grades[grades[\"issdttm\"].apply(lambda x:x.year == 2017)]"
   ]
  },
  {
   "cell_type": "code",
   "execution_count": 52,
   "metadata": {
    "ExecuteTime": {
     "end_time": "2020-08-12T13:43:19.593230Z",
     "start_time": "2020-08-12T13:43:19.581828Z"
    }
   },
   "outputs": [
    {
     "data": {
      "text/html": [
       "<div>\n",
       "<style scoped>\n",
       "    .dataframe tbody tr th:only-of-type {\n",
       "        vertical-align: middle;\n",
       "    }\n",
       "\n",
       "    .dataframe tbody tr th {\n",
       "        vertical-align: top;\n",
       "    }\n",
       "\n",
       "    .dataframe thead th {\n",
       "        text-align: right;\n",
       "    }\n",
       "</style>\n",
       "<table border=\"1\" class=\"dataframe\">\n",
       "  <thead>\n",
       "    <tr style=\"text-align: right;\">\n",
       "      <th></th>\n",
       "      <th>licenseno</th>\n",
       "      <th>issdttm</th>\n",
       "      <th>expdttm</th>\n",
       "      <th>licstatus</th>\n",
       "      <th>licensecat</th>\n",
       "      <th>descript</th>\n",
       "      <th>result</th>\n",
       "      <th>resultdttm</th>\n",
       "      <th>sum_violations</th>\n",
       "      <th>score</th>\n",
       "      <th>grade</th>\n",
       "    </tr>\n",
       "  </thead>\n",
       "  <tbody>\n",
       "    <tr>\n",
       "      <th>54609</th>\n",
       "      <td>303293</td>\n",
       "      <td>2017-01-12 09:31:00</td>\n",
       "      <td>2018-12-31 23:59:00</td>\n",
       "      <td>Active</td>\n",
       "      <td>FS</td>\n",
       "      <td>Eating &amp; Drinking</td>\n",
       "      <td>HE_Fail</td>\n",
       "      <td>2016-10-25 15:36:00</td>\n",
       "      <td>28</td>\n",
       "      <td>72</td>\n",
       "      <td>C</td>\n",
       "    </tr>\n",
       "    <tr>\n",
       "      <th>54929</th>\n",
       "      <td>303301</td>\n",
       "      <td>2017-02-07 08:03:00</td>\n",
       "      <td>2018-12-31 23:59:00</td>\n",
       "      <td>Active</td>\n",
       "      <td>RF</td>\n",
       "      <td>Retail Food</td>\n",
       "      <td>HE_Pass</td>\n",
       "      <td>2016-11-04 13:58:00</td>\n",
       "      <td>0</td>\n",
       "      <td>100</td>\n",
       "      <td>A</td>\n",
       "    </tr>\n",
       "    <tr>\n",
       "      <th>54992</th>\n",
       "      <td>303293</td>\n",
       "      <td>2017-01-12 09:31:00</td>\n",
       "      <td>2018-12-31 23:59:00</td>\n",
       "      <td>Active</td>\n",
       "      <td>FS</td>\n",
       "      <td>Eating &amp; Drinking</td>\n",
       "      <td>HE_Pass</td>\n",
       "      <td>2016-11-08 10:06:00</td>\n",
       "      <td>0</td>\n",
       "      <td>100</td>\n",
       "      <td>A</td>\n",
       "    </tr>\n",
       "    <tr>\n",
       "      <th>55236</th>\n",
       "      <td>166851</td>\n",
       "      <td>2017-02-07 08:00:00</td>\n",
       "      <td>2018-12-31 23:59:00</td>\n",
       "      <td>Active</td>\n",
       "      <td>FS</td>\n",
       "      <td>Eating &amp; Drinking</td>\n",
       "      <td>HE_Pass</td>\n",
       "      <td>2016-11-16 11:08:00</td>\n",
       "      <td>0</td>\n",
       "      <td>100</td>\n",
       "      <td>A</td>\n",
       "    </tr>\n",
       "    <tr>\n",
       "      <th>55350</th>\n",
       "      <td>140119</td>\n",
       "      <td>2017-01-31 12:31:00</td>\n",
       "      <td>2018-12-31 23:59:00</td>\n",
       "      <td>Active</td>\n",
       "      <td>FT</td>\n",
       "      <td>Eating &amp; Drinking w/ Take Out</td>\n",
       "      <td>HE_Pass</td>\n",
       "      <td>2016-11-17 15:46:00</td>\n",
       "      <td>0</td>\n",
       "      <td>100</td>\n",
       "      <td>A</td>\n",
       "    </tr>\n",
       "  </tbody>\n",
       "</table>\n",
       "</div>"
      ],
      "text/plain": [
       "       licenseno             issdttm             expdttm licstatus licensecat  \\\n",
       "54609     303293 2017-01-12 09:31:00 2018-12-31 23:59:00    Active         FS   \n",
       "54929     303301 2017-02-07 08:03:00 2018-12-31 23:59:00    Active         RF   \n",
       "54992     303293 2017-01-12 09:31:00 2018-12-31 23:59:00    Active         FS   \n",
       "55236     166851 2017-02-07 08:00:00 2018-12-31 23:59:00    Active         FS   \n",
       "55350     140119 2017-01-31 12:31:00 2018-12-31 23:59:00    Active         FT   \n",
       "\n",
       "                            descript   result          resultdttm  \\\n",
       "54609              Eating & Drinking  HE_Fail 2016-10-25 15:36:00   \n",
       "54929                    Retail Food  HE_Pass 2016-11-04 13:58:00   \n",
       "54992              Eating & Drinking  HE_Pass 2016-11-08 10:06:00   \n",
       "55236              Eating & Drinking  HE_Pass 2016-11-16 11:08:00   \n",
       "55350  Eating & Drinking w/ Take Out  HE_Pass 2016-11-17 15:46:00   \n",
       "\n",
       "       sum_violations  score grade  \n",
       "54609              28     72     C  \n",
       "54929               0    100     A  \n",
       "54992               0    100     A  \n",
       "55236               0    100     A  \n",
       "55350               0    100     A  "
      ]
     },
     "execution_count": 52,
     "metadata": {},
     "output_type": "execute_result"
    }
   ],
   "source": [
    "grades_2017.head()"
   ]
  },
  {
   "cell_type": "code",
   "execution_count": 53,
   "metadata": {
    "ExecuteTime": {
     "end_time": "2020-08-12T13:43:19.639322Z",
     "start_time": "2020-08-12T13:43:19.595433Z"
    }
   },
   "outputs": [
    {
     "name": "stdout",
     "output_type": "stream",
     "text": [
      "A\n",
      "1.3703703703703705\n",
      "1.0\n",
      "B\n",
      "1.2428571428571429\n",
      "1.0\n",
      "C\n",
      "2.4601542416452444\n",
      "2.0\n"
     ]
    }
   ],
   "source": [
    "print(\"A\")\n",
    "print(grades_2017['licenseno'][grades['grade'] == \"C\"].value_counts().mean())\n",
    "print(grades_2017['licenseno'][grades['grade'] == \"C\"].value_counts().median())\n",
    "\n",
    "print(\"B\")\n",
    "print(grades_2017['licenseno'][grades['grade'] == \"B\"].value_counts().mean())\n",
    "print(grades_2017['licenseno'][grades['grade'] == \"B\"].value_counts().median())\n",
    "\n",
    "print(\"C\")\n",
    "print(grades_2017['licenseno'][grades['grade'] == \"A\"].value_counts().mean())\n",
    "print(grades_2017['licenseno'][grades['grade'] == \"A\"].value_counts().median())"
   ]
  },
  {
   "cell_type": "code",
   "execution_count": 54,
   "metadata": {
    "ExecuteTime": {
     "end_time": "2020-08-12T13:43:19.642988Z",
     "start_time": "2020-08-12T13:43:19.640961Z"
    }
   },
   "outputs": [],
   "source": [
    "#let's check all years"
   ]
  },
  {
   "cell_type": "code",
   "execution_count": 70,
   "metadata": {
    "ExecuteTime": {
     "end_time": "2020-08-12T14:11:31.238790Z",
     "start_time": "2020-08-12T14:11:29.582164Z"
    }
   },
   "outputs": [
    {
     "name": "stdout",
     "output_type": "stream",
     "text": [
      "2012\n",
      "C\n",
      "1.4185328185328185\n",
      "B\n",
      "1.2717219589257505\n",
      "A\n",
      "2.0963676797627873\n",
      "\n",
      "2013\n",
      "C\n",
      "1.3709251101321587\n",
      "B\n",
      "1.2076788830715532\n",
      "A\n",
      "2.0875338087042046\n",
      "\n",
      "2014\n",
      "C\n",
      "1.3654743390357698\n",
      "B\n",
      "1.2212244897959184\n",
      "A\n",
      "1.5490861618798955\n",
      "\n",
      "2015\n",
      "C\n",
      "1.408878504672897\n",
      "B\n",
      "1.258955223880597\n",
      "A\n",
      "1.6886475303853117\n",
      "\n",
      "2016\n",
      "C\n",
      "1.429945054945055\n",
      "B\n",
      "1.2911306702775898\n",
      "A\n",
      "1.7502472799208704\n",
      "\n",
      "2017\n",
      "C\n",
      "1.3286885245901638\n",
      "B\n",
      "1.2199036918138042\n",
      "A\n",
      "1.7399802078179119\n",
      "\n",
      "2018\n",
      "C\n",
      "1.107312440645774\n",
      "B\n",
      "1.0644768856447688\n",
      "A\n",
      "1.2104010876954452\n",
      "\n"
     ]
    }
   ],
   "source": [
    "years = list(range(2012, 2019))\n",
    "bar_c = []\n",
    "bar_b = []\n",
    "bar_a = []\n",
    "\n",
    "for y in years:\n",
    "    df = grades[grades[\"resultdttm\"].apply(lambda x:x.year == y)]\n",
    "    \n",
    "    print(y)\n",
    "    \n",
    "    print(\"C\")\n",
    "    bar_c.append(df['licenseno'][df['grade'] == \"C\"].value_counts().mean())\n",
    "    \n",
    "    print(df['licenseno'][df['grade'] == \"C\"].value_counts().mean())\n",
    "\n",
    "    print(\"B\")\n",
    "    \n",
    "    bar_b.append(df['licenseno'][df['grade'] == \"B\"].value_counts().mean())\n",
    "    \n",
    "    print(df['licenseno'][df['grade'] == \"B\"].value_counts().mean())\n",
    "\n",
    "    print(\"A\")\n",
    "    \n",
    "    bar_a.append(df['licenseno'][df['grade'] == \"A\"].value_counts().mean())\n",
    "    \n",
    "    print(df['licenseno'][df['grade'] == \"A\"].value_counts().mean())\n",
    "    \n",
    "    print()"
   ]
  },
  {
   "cell_type": "code",
   "execution_count": 79,
   "metadata": {
    "ExecuteTime": {
     "end_time": "2020-08-12T14:16:39.418614Z",
     "start_time": "2020-08-12T14:16:39.116200Z"
    }
   },
   "outputs": [
    {
     "data": {
      "image/png": "[encoded data removed]",
      "text/plain": [
       "<Figure size 432x288 with 1 Axes>"
      ]
     },
     "metadata": {
      "needs_background": "light"
     },
     "output_type": "display_data"
    }
   ],
   "source": [
    "x = np.array(years)\n",
    "\n",
    "y = bar_a\n",
    "z = bar_b\n",
    "k = bar_c\n",
    "\n",
    "ax = plt.subplot(111)\n",
    "ax.bar(x-0.2, y, width=0.2, color='b', align='center', label = \"A\")\n",
    "ax.bar(x, z, width=0.2, color='g', align='center', label = \"B\")\n",
    "ax.bar(x+0.2, k, width=0.2, color='r', align='center', label = \"C\")\n",
    "\n",
    "plt.xlabel(\"Year\")\n",
    "\n",
    "plt.ylabel(\"Mean Number of Inspections per Restaurant\")\n",
    "\n",
    "plt.legend();\n"
   ]
  },
  {
   "cell_type": "code",
   "execution_count": 56,
   "metadata": {
    "ExecuteTime": {
     "end_time": "2020-08-12T13:43:21.159447Z",
     "start_time": "2020-08-12T13:43:21.157180Z"
    }
   },
   "outputs": [],
   "source": [
    "#Each year, the best rated restaurants are being inspected more -- inspections are ineffective. However, the number of insepction is going down every year for all grades of restaurants. The poorer rated restaurants are being inspected slightly less more regularly as the years pass. "
   ]
  },
  {
   "cell_type": "code",
   "execution_count": 57,
   "metadata": {
    "ExecuteTime": {
     "end_time": "2020-08-12T13:43:21.166181Z",
     "start_time": "2020-08-12T13:43:21.161329Z"
    }
   },
   "outputs": [],
   "source": [
    "#make triple bar graph for each year to show the means"
   ]
  },
  {
   "cell_type": "code",
   "execution_count": 58,
   "metadata": {
    "ExecuteTime": {
     "end_time": "2020-08-12T13:43:22.565154Z",
     "start_time": "2020-08-12T13:43:21.168000Z"
    }
   },
   "outputs": [],
   "source": [
    "#show that the number of inspections is going down each year \n",
    "inspections_per_year = []\n",
    "for y in years:\n",
    "    df = grades[grades[\"resultdttm\"].apply(lambda x:x.year == y)]\n",
    "    \n",
    "    inspections_per_year.append(len(df))"
   ]
  },
  {
   "cell_type": "code",
   "execution_count": 68,
   "metadata": {
    "ExecuteTime": {
     "end_time": "2020-08-12T14:04:32.979683Z",
     "start_time": "2020-08-12T14:04:32.804819Z"
    }
   },
   "outputs": [
    {
     "data": {
      "image/png": "[encoded data removed]",
      "text/plain": [
       "<Figure size 432x288 with 1 Axes>"
      ]
     },
     "metadata": {
      "needs_background": "light"
     },
     "output_type": "display_data"
    }
   ],
   "source": [
    "inspections_per_year\n",
    "plt.plot(years, inspections_per_year)\n",
    "plt.xlabel(\"Year of Inspection Result\")\n",
    "plt.ylabel(\"Number of Inspections\")\n",
    "plt.show()"
   ]
  },
  {
   "cell_type": "code",
   "execution_count": 60,
   "metadata": {
    "ExecuteTime": {
     "end_time": "2020-08-12T13:43:22.719190Z",
     "start_time": "2020-08-12T13:43:22.716831Z"
    }
   },
   "outputs": [],
   "source": [
    "#I suspect there is simply missing data in 2018 but still shows a decrease from year to year"
   ]
  },
  {
   "cell_type": "code",
   "execution_count": 62,
   "metadata": {
    "ExecuteTime": {
     "end_time": "2020-08-12T13:43:22.731160Z",
     "start_time": "2020-08-12T13:43:22.728778Z"
    }
   },
   "outputs": [],
   "source": [
    "#has the number of poorly performing restaurants decreased year to year?"
   ]
  },
  {
   "cell_type": "code",
   "execution_count": 81,
   "metadata": {
    "ExecuteTime": {
     "end_time": "2020-08-12T14:19:25.645655Z",
     "start_time": "2020-08-12T14:19:24.026685Z"
    }
   },
   "outputs": [
    {
     "name": "stdout",
     "output_type": "stream",
     "text": [
      "2012\n",
      "0.7664475913002236\n",
      "\n",
      "2013\n",
      "0.7427821522309711\n",
      "\n",
      "2014\n",
      "0.6459444746869897\n",
      "\n",
      "2015\n",
      "0.6513066028326352\n",
      "\n",
      "2016\n",
      "0.6395590494262221\n",
      "\n",
      "2017\n",
      "0.6912718694712011\n",
      "\n",
      "2018\n",
      "0.6356658336308462\n",
      "\n"
     ]
    }
   ],
   "source": [
    "years = list(range(2012, 2019))\n",
    "bar_a = []\n",
    "bar_b = []\n",
    "bar_c = []\n",
    "\n",
    "for y in years:\n",
    "    df = grades[grades[\"resultdttm\"].apply(lambda x:x.year == y)]\n",
    "    \n",
    "    print(y)\n",
    "    \n",
    "    print(df['grade'].value_counts(normalize = True).A)\n",
    "    \n",
    "    \n",
    "    bar_a.append(df['grade'].value_counts(normalize = True).A)\n",
    "    \n",
    "    bar_b.append(df['grade'].value_counts(normalize = True).B)\n",
    "    \n",
    "    bar_c.append(df['grade'].value_counts(normalize = True).C)\n",
    "    \n",
    "    print()"
   ]
  },
  {
   "cell_type": "code",
   "execution_count": 93,
   "metadata": {
    "ExecuteTime": {
     "end_time": "2020-08-12T14:23:35.425486Z",
     "start_time": "2020-08-12T14:23:35.128160Z"
    }
   },
   "outputs": [
    {
     "data": {
      "image/png": "[encoded data removed]",
      "text/plain": [
       "<Figure size 432x288 with 1 Axes>"
      ]
     },
     "metadata": {
      "needs_background": "light"
     },
     "output_type": "display_data"
    }
   ],
   "source": [
    "x = np.array(years)\n",
    "\n",
    "y = np.array(bar_a)\n",
    "z = np.array(bar_b)\n",
    "k = np.array(bar_c)\n",
    "\n",
    "ax = plt.subplot(111)\n",
    "ax.bar(x, y, width=0.5, color='b', align='center', label = \"A\")\n",
    "ax.bar(x, z, width=0.5, color='g', align='center', label = \"B\", bottom = y)\n",
    "ax.bar(x, k, width=0.5, color='r', align='center', label = \"C\", bottom = z + y)\n",
    "\n",
    "plt.xlabel(\"Year\")\n",
    "\n",
    "plt.ylabel(\"Restaurant Grade Percent\")\n",
    "\n",
    "plt.legend(loc = \"lower right\");\n"
   ]
  },
  {
   "cell_type": "code",
   "execution_count": null,
   "metadata": {},
   "outputs": [],
   "source": [
    "#the proportion of \"A\" graded restaurants has been slipping"
   ]
  },
  {
   "cell_type": "code",
   "execution_count": null,
   "metadata": {},
   "outputs": [],
   "source": []
  },
  {
   "cell_type": "markdown",
   "metadata": {
    "ExecuteTime": {
     "end_time": "2020-08-12T05:52:18.581283Z",
     "start_time": "2020-08-12T05:52:18.578828Z"
    }
   },
   "source": [
    "The city does seem to be inspecting effectively as it is using more resources on more poorly performing restaurants, however the general downward trend in spections is concerning. "
   ]
  },
  {
   "cell_type": "code",
   "execution_count": 67,
   "metadata": {
    "ExecuteTime": {
     "end_time": "2020-08-12T13:53:03.089953Z",
     "start_time": "2020-08-12T13:53:02.798368Z"
    }
   },
   "outputs": [
    {
     "name": "stderr",
     "output_type": "stream",
     "text": [
      "/opt/anaconda3/lib/python3.7/site-packages/pandas/plotting/_matplotlib/converter.py:103: FutureWarning: Using an implicitly registered datetime converter for a matplotlib plotting method. The converter was registered by pandas on import. Future versions of pandas will require you to explicitly register matplotlib converters.\n",
      "\n",
      "To register the converters:\n",
      "\t>>> from pandas.plotting import register_matplotlib_converters\n",
      "\t>>> register_matplotlib_converters()\n",
      "  warnings.warn(msg, FutureWarning)\n"
     ]
    },
    {
     "data": {
      "text/plain": [
       "(array([736695., 736726., 736754., 736785., 736815., 736846., 736876.]),\n",
       " <a list of 7 Text xticklabel objects>)"
      ]
     },
     "execution_count": 67,
     "metadata": {},
     "output_type": "execute_result"
    },
    {
     "data": {
      "image/png": "[encoded data removed]",
      "text/plain": [
       "<Figure size 432x288 with 1 Axes>"
      ]
     },
     "metadata": {
      "needs_background": "light"
     },
     "output_type": "display_data"
    }
   ],
   "source": [
    "time = grades.sort_values('resultdttm', ascending=True)\n",
    "plt.plot(df['resultdttm'], df['licenseno'])\n",
    "plt.xticks(rotation='vertical')"
   ]
  },
  {
   "cell_type": "code",
   "execution_count": null,
   "metadata": {},
   "outputs": [],
   "source": []
  }
 ],
 "metadata": {
  "kernelspec": {
   "display_name": "Python 3",
   "language": "python",
   "name": "python3"
  },
  "language_info": {
   "codemirror_mode": {
    "name": "ipython",
    "version": 3
   },
   "file_extension": ".py",
   "mimetype": "text/x-python",
   "name": "python",
   "nbconvert_exporter": "python",
   "pygments_lexer": "ipython3",
   "version": "3.7.4"
  }
 },
 "nbformat": 4,
 "nbformat_minor": 2
}
