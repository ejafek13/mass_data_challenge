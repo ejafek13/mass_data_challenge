{
 "cells": [
  {
   "cell_type": "code",
   "execution_count": 1,
   "metadata": {
    "ExecuteTime": {
     "end_time": "2020-08-11T21:54:00.141118Z",
     "start_time": "2020-08-11T21:53:59.054921Z"
    }
   },
   "outputs": [],
   "source": [
    "import pandas as pd\n",
    "import numpy as np\n",
    "import matplotlib.pyplot as plt"
   ]
  },
  {
   "cell_type": "code",
   "execution_count": 2,
   "metadata": {
    "ExecuteTime": {
     "end_time": "2020-08-11T21:54:56.821877Z",
     "start_time": "2020-08-11T21:54:56.047655Z"
    }
   },
   "outputs": [],
   "source": [
    "violations = pd.read_csv(\"./data/food+establishment+violations (1).csv\")"
   ]
  },
  {
   "cell_type": "code",
   "execution_count": 3,
   "metadata": {
    "ExecuteTime": {
     "end_time": "2020-08-11T21:55:09.568914Z",
     "start_time": "2020-08-11T21:55:09.542880Z"
    }
   },
   "outputs": [
    {
     "data": {
      "text/html": [
       "<div>\n",
       "<style scoped>\n",
       "    .dataframe tbody tr th:only-of-type {\n",
       "        vertical-align: middle;\n",
       "    }\n",
       "\n",
       "    .dataframe tbody tr th {\n",
       "        vertical-align: top;\n",
       "    }\n",
       "\n",
       "    .dataframe thead th {\n",
       "        text-align: right;\n",
       "    }\n",
       "</style>\n",
       "<table border=\"1\" class=\"dataframe\">\n",
       "  <thead>\n",
       "    <tr style=\"text-align: right;\">\n",
       "      <th></th>\n",
       "      <th>LICENSENO</th>\n",
       "      <th>ISSDTTM</th>\n",
       "      <th>EXPDTTM</th>\n",
       "      <th>LICSTATUS</th>\n",
       "      <th>LICENSECAT</th>\n",
       "      <th>DESCRIPT</th>\n",
       "      <th>RESULT</th>\n",
       "      <th>RESULTDTTM</th>\n",
       "      <th>VIOLATION</th>\n",
       "      <th>VIOLLEVEL</th>\n",
       "      <th>VIOLDESC</th>\n",
       "      <th>VIOLDTTM</th>\n",
       "      <th>VIOLSTATUS</th>\n",
       "      <th>PROPERTY_ID</th>\n",
       "      <th>LOCATION</th>\n",
       "    </tr>\n",
       "  </thead>\n",
       "  <tbody>\n",
       "    <tr>\n",
       "      <th>0</th>\n",
       "      <td>77958</td>\n",
       "      <td>3/14/2012 9:17</td>\n",
       "      <td>12/31/2012 23:59</td>\n",
       "      <td>Inactive</td>\n",
       "      <td>FT</td>\n",
       "      <td>Eating &amp; Drinking w/ Take Out</td>\n",
       "      <td>HE_Pass</td>\n",
       "      <td>1/3/2012 7:26</td>\n",
       "      <td>NaN</td>\n",
       "      <td>NaN</td>\n",
       "      <td>NaN</td>\n",
       "      <td></td>\n",
       "      <td>NaN</td>\n",
       "      <td>155968.0</td>\n",
       "      <td>(42.355863000, -71.061898000)</td>\n",
       "    </tr>\n",
       "    <tr>\n",
       "      <th>1</th>\n",
       "      <td>74470</td>\n",
       "      <td>2/1/2012 12:29</td>\n",
       "      <td>12/31/2018 23:59</td>\n",
       "      <td>Active</td>\n",
       "      <td>FS</td>\n",
       "      <td>Eating &amp; Drinking</td>\n",
       "      <td>HE_Filed</td>\n",
       "      <td>1/3/2012 9:42</td>\n",
       "      <td>15-4-202.16</td>\n",
       "      <td>*</td>\n",
       "      <td>Non-Food Contact Surfaces</td>\n",
       "      <td>1/3/2012 9:42</td>\n",
       "      <td>Fail</td>\n",
       "      <td>48511.0</td>\n",
       "      <td>(42.278028000, -71.066046000)</td>\n",
       "    </tr>\n",
       "    <tr>\n",
       "      <th>2</th>\n",
       "      <td>74470</td>\n",
       "      <td>2/1/2012 12:29</td>\n",
       "      <td>12/31/2018 23:59</td>\n",
       "      <td>Active</td>\n",
       "      <td>FS</td>\n",
       "      <td>Eating &amp; Drinking</td>\n",
       "      <td>HE_Filed</td>\n",
       "      <td>1/3/2012 9:42</td>\n",
       "      <td>36-6-501.11-.12</td>\n",
       "      <td>*</td>\n",
       "      <td>Improper Maintenance of Floors</td>\n",
       "      <td>1/3/2012 9:42</td>\n",
       "      <td>Fail</td>\n",
       "      <td>48511.0</td>\n",
       "      <td>(42.278028000, -71.066046000)</td>\n",
       "    </tr>\n",
       "    <tr>\n",
       "      <th>3</th>\n",
       "      <td>74470</td>\n",
       "      <td>2/1/2012 12:29</td>\n",
       "      <td>12/31/2018 23:59</td>\n",
       "      <td>Active</td>\n",
       "      <td>FS</td>\n",
       "      <td>Eating &amp; Drinking</td>\n",
       "      <td>HE_Filed</td>\n",
       "      <td>1/3/2012 9:42</td>\n",
       "      <td>37-6-501.11-.12</td>\n",
       "      <td>*</td>\n",
       "      <td>Improper Maintenance of Walls/Ceilings</td>\n",
       "      <td>1/3/2012 9:42</td>\n",
       "      <td>Fail</td>\n",
       "      <td>48511.0</td>\n",
       "      <td>(42.278028000, -71.066046000)</td>\n",
       "    </tr>\n",
       "    <tr>\n",
       "      <th>4</th>\n",
       "      <td>18086</td>\n",
       "      <td>12/27/2011 12:46</td>\n",
       "      <td>12/31/2011 23:59</td>\n",
       "      <td>Inactive</td>\n",
       "      <td>RF</td>\n",
       "      <td>Retail Food</td>\n",
       "      <td>HE_Fail</td>\n",
       "      <td>1/3/2012 10:06</td>\n",
       "      <td>23-4-602.13</td>\n",
       "      <td>*</td>\n",
       "      <td>Non-Food Contact Surfaces Clean</td>\n",
       "      <td>1/3/2012 10:06</td>\n",
       "      <td>Fail</td>\n",
       "      <td>14788.0</td>\n",
       "      <td>(42.382370000, -71.018390000)</td>\n",
       "    </tr>\n",
       "  </tbody>\n",
       "</table>\n",
       "</div>"
      ],
      "text/plain": [
       "   LICENSENO           ISSDTTM           EXPDTTM LICSTATUS LICENSECAT  \\\n",
       "0      77958    3/14/2012 9:17  12/31/2012 23:59  Inactive         FT   \n",
       "1      74470    2/1/2012 12:29  12/31/2018 23:59    Active         FS   \n",
       "2      74470    2/1/2012 12:29  12/31/2018 23:59    Active         FS   \n",
       "3      74470    2/1/2012 12:29  12/31/2018 23:59    Active         FS   \n",
       "4      18086  12/27/2011 12:46  12/31/2011 23:59  Inactive         RF   \n",
       "\n",
       "                        DESCRIPT    RESULT      RESULTDTTM        VIOLATION  \\\n",
       "0  Eating & Drinking w/ Take Out   HE_Pass   1/3/2012 7:26              NaN   \n",
       "1              Eating & Drinking  HE_Filed   1/3/2012 9:42      15-4-202.16   \n",
       "2              Eating & Drinking  HE_Filed   1/3/2012 9:42  36-6-501.11-.12   \n",
       "3              Eating & Drinking  HE_Filed   1/3/2012 9:42  37-6-501.11-.12   \n",
       "4                    Retail Food   HE_Fail  1/3/2012 10:06      23-4-602.13   \n",
       "\n",
       "  VIOLLEVEL                                VIOLDESC        VIOLDTTM  \\\n",
       "0       NaN                                     NaN                   \n",
       "1         *               Non-Food Contact Surfaces   1/3/2012 9:42   \n",
       "2         *          Improper Maintenance of Floors   1/3/2012 9:42   \n",
       "3         *  Improper Maintenance of Walls/Ceilings   1/3/2012 9:42   \n",
       "4         *         Non-Food Contact Surfaces Clean  1/3/2012 10:06   \n",
       "\n",
       "  VIOLSTATUS  PROPERTY_ID                       LOCATION  \n",
       "0        NaN     155968.0  (42.355863000, -71.061898000)  \n",
       "1       Fail      48511.0  (42.278028000, -71.066046000)  \n",
       "2       Fail      48511.0  (42.278028000, -71.066046000)  \n",
       "3       Fail      48511.0  (42.278028000, -71.066046000)  \n",
       "4       Fail      14788.0  (42.382370000, -71.018390000)  "
      ]
     },
     "execution_count": 3,
     "metadata": {},
     "output_type": "execute_result"
    }
   ],
   "source": [
    "violations.head()"
   ]
  },
  {
   "cell_type": "code",
   "execution_count": 5,
   "metadata": {
    "ExecuteTime": {
     "end_time": "2020-08-11T21:56:36.408012Z",
     "start_time": "2020-08-11T21:56:36.368120Z"
    }
   },
   "outputs": [],
   "source": [
    "violations.rename(str.lower, axis = \"columns\", inplace = True)"
   ]
  },
  {
   "cell_type": "code",
   "execution_count": 33,
   "metadata": {
    "ExecuteTime": {
     "end_time": "2020-08-12T04:58:09.198617Z",
     "start_time": "2020-08-12T04:58:09.035418Z"
    }
   },
   "outputs": [
    {
     "name": "stdout",
     "output_type": "stream",
     "text": [
      "<class 'pandas.core.frame.DataFrame'>\n",
      "RangeIndex: 324898 entries, 0 to 324897\n",
      "Data columns (total 15 columns):\n",
      "licenseno      324898 non-null int64\n",
      "issdttm        324898 non-null object\n",
      "expdttm        324898 non-null object\n",
      "licstatus      324898 non-null object\n",
      "licensecat     324898 non-null object\n",
      "descript       324898 non-null object\n",
      "result         324898 non-null object\n",
      "resultdttm     324898 non-null object\n",
      "violation      305941 non-null object\n",
      "viollevel      305941 non-null object\n",
      "violdesc       305941 non-null object\n",
      "violdttm       324898 non-null object\n",
      "violstatus     305941 non-null object\n",
      "property_id    260371 non-null float64\n",
      "location       238701 non-null object\n",
      "dtypes: float64(1), int64(1), object(13)\n",
      "memory usage: 37.2+ MB\n"
     ]
    }
   ],
   "source": [
    "violations.info()"
   ]
  },
  {
   "cell_type": "code",
   "execution_count": 17,
   "metadata": {
    "ExecuteTime": {
     "end_time": "2020-08-11T22:58:19.205426Z",
     "start_time": "2020-08-11T22:58:19.200926Z"
    }
   },
   "outputs": [
    {
     "data": {
      "text/plain": [
       "'42.355863000'"
      ]
     },
     "execution_count": 17,
     "metadata": {},
     "output_type": "execute_result"
    }
   ],
   "source": [
    "violations['location'][0].split(\",\")[0].strip(\"(, )\")"
   ]
  },
  {
   "cell_type": "code",
   "execution_count": 23,
   "metadata": {
    "ExecuteTime": {
     "end_time": "2020-08-12T04:51:25.172511Z",
     "start_time": "2020-08-12T04:51:25.099681Z"
    }
   },
   "outputs": [],
   "source": [
    "valid_locations = violations[violations['location'].notna()]"
   ]
  },
  {
   "cell_type": "code",
   "execution_count": 28,
   "metadata": {
    "ExecuteTime": {
     "end_time": "2020-08-12T04:52:51.935961Z",
     "start_time": "2020-08-12T04:52:51.805026Z"
    }
   },
   "outputs": [
    {
     "name": "stderr",
     "output_type": "stream",
     "text": [
      "/opt/anaconda3/lib/python3.7/site-packages/ipykernel_launcher.py:1: SettingWithCopyWarning: \n",
      "A value is trying to be set on a copy of a slice from a DataFrame.\n",
      "Try using .loc[row_indexer,col_indexer] = value instead\n",
      "\n",
      "See the caveats in the documentation: http://pandas.pydata.org/pandas-docs/stable/user_guide/indexing.html#returning-a-view-versus-a-copy\n",
      "  \"\"\"Entry point for launching an IPython kernel.\n"
     ]
    }
   ],
   "source": [
    "valid_locations['lat'] = valid_locations['location'].apply(lambda x: x.split(\",\")[0].strip(\"(, )\"))"
   ]
  },
  {
   "cell_type": "code",
   "execution_count": 29,
   "metadata": {
    "ExecuteTime": {
     "end_time": "2020-08-12T04:53:11.145446Z",
     "start_time": "2020-08-12T04:53:11.020645Z"
    }
   },
   "outputs": [
    {
     "name": "stderr",
     "output_type": "stream",
     "text": [
      "/opt/anaconda3/lib/python3.7/site-packages/ipykernel_launcher.py:1: SettingWithCopyWarning: \n",
      "A value is trying to be set on a copy of a slice from a DataFrame.\n",
      "Try using .loc[row_indexer,col_indexer] = value instead\n",
      "\n",
      "See the caveats in the documentation: http://pandas.pydata.org/pandas-docs/stable/user_guide/indexing.html#returning-a-view-versus-a-copy\n",
      "  \"\"\"Entry point for launching an IPython kernel.\n"
     ]
    }
   ],
   "source": [
    "valid_locations['long'] = valid_locations['location'].apply(lambda x: x.split(\",\")[1].strip(\"(, )\"))"
   ]
  },
  {
   "cell_type": "code",
   "execution_count": 31,
   "metadata": {
    "ExecuteTime": {
     "end_time": "2020-08-12T04:53:21.922017Z",
     "start_time": "2020-08-12T04:53:21.902595Z"
    }
   },
   "outputs": [
    {
     "data": {
      "text/html": [
       "<div>\n",
       "<style scoped>\n",
       "    .dataframe tbody tr th:only-of-type {\n",
       "        vertical-align: middle;\n",
       "    }\n",
       "\n",
       "    .dataframe tbody tr th {\n",
       "        vertical-align: top;\n",
       "    }\n",
       "\n",
       "    .dataframe thead th {\n",
       "        text-align: right;\n",
       "    }\n",
       "</style>\n",
       "<table border=\"1\" class=\"dataframe\">\n",
       "  <thead>\n",
       "    <tr style=\"text-align: right;\">\n",
       "      <th></th>\n",
       "      <th>licenseno</th>\n",
       "      <th>issdttm</th>\n",
       "      <th>expdttm</th>\n",
       "      <th>licstatus</th>\n",
       "      <th>licensecat</th>\n",
       "      <th>descript</th>\n",
       "      <th>result</th>\n",
       "      <th>resultdttm</th>\n",
       "      <th>violation</th>\n",
       "      <th>viollevel</th>\n",
       "      <th>violdesc</th>\n",
       "      <th>violdttm</th>\n",
       "      <th>violstatus</th>\n",
       "      <th>property_id</th>\n",
       "      <th>location</th>\n",
       "      <th>lat</th>\n",
       "      <th>long</th>\n",
       "    </tr>\n",
       "  </thead>\n",
       "  <tbody>\n",
       "    <tr>\n",
       "      <th>0</th>\n",
       "      <td>77958</td>\n",
       "      <td>3/14/2012 9:17</td>\n",
       "      <td>12/31/2012 23:59</td>\n",
       "      <td>Inactive</td>\n",
       "      <td>FT</td>\n",
       "      <td>Eating &amp; Drinking w/ Take Out</td>\n",
       "      <td>HE_Pass</td>\n",
       "      <td>1/3/2012 7:26</td>\n",
       "      <td>NaN</td>\n",
       "      <td>NaN</td>\n",
       "      <td>NaN</td>\n",
       "      <td></td>\n",
       "      <td>NaN</td>\n",
       "      <td>155968.0</td>\n",
       "      <td>(42.355863000, -71.061898000)</td>\n",
       "      <td>42.355863000</td>\n",
       "      <td>-71.061898000</td>\n",
       "    </tr>\n",
       "    <tr>\n",
       "      <th>1</th>\n",
       "      <td>74470</td>\n",
       "      <td>2/1/2012 12:29</td>\n",
       "      <td>12/31/2018 23:59</td>\n",
       "      <td>Active</td>\n",
       "      <td>FS</td>\n",
       "      <td>Eating &amp; Drinking</td>\n",
       "      <td>HE_Filed</td>\n",
       "      <td>1/3/2012 9:42</td>\n",
       "      <td>15-4-202.16</td>\n",
       "      <td>*</td>\n",
       "      <td>Non-Food Contact Surfaces</td>\n",
       "      <td>1/3/2012 9:42</td>\n",
       "      <td>Fail</td>\n",
       "      <td>48511.0</td>\n",
       "      <td>(42.278028000, -71.066046000)</td>\n",
       "      <td>42.278028000</td>\n",
       "      <td>-71.066046000</td>\n",
       "    </tr>\n",
       "    <tr>\n",
       "      <th>2</th>\n",
       "      <td>74470</td>\n",
       "      <td>2/1/2012 12:29</td>\n",
       "      <td>12/31/2018 23:59</td>\n",
       "      <td>Active</td>\n",
       "      <td>FS</td>\n",
       "      <td>Eating &amp; Drinking</td>\n",
       "      <td>HE_Filed</td>\n",
       "      <td>1/3/2012 9:42</td>\n",
       "      <td>36-6-501.11-.12</td>\n",
       "      <td>*</td>\n",
       "      <td>Improper Maintenance of Floors</td>\n",
       "      <td>1/3/2012 9:42</td>\n",
       "      <td>Fail</td>\n",
       "      <td>48511.0</td>\n",
       "      <td>(42.278028000, -71.066046000)</td>\n",
       "      <td>42.278028000</td>\n",
       "      <td>-71.066046000</td>\n",
       "    </tr>\n",
       "    <tr>\n",
       "      <th>3</th>\n",
       "      <td>74470</td>\n",
       "      <td>2/1/2012 12:29</td>\n",
       "      <td>12/31/2018 23:59</td>\n",
       "      <td>Active</td>\n",
       "      <td>FS</td>\n",
       "      <td>Eating &amp; Drinking</td>\n",
       "      <td>HE_Filed</td>\n",
       "      <td>1/3/2012 9:42</td>\n",
       "      <td>37-6-501.11-.12</td>\n",
       "      <td>*</td>\n",
       "      <td>Improper Maintenance of Walls/Ceilings</td>\n",
       "      <td>1/3/2012 9:42</td>\n",
       "      <td>Fail</td>\n",
       "      <td>48511.0</td>\n",
       "      <td>(42.278028000, -71.066046000)</td>\n",
       "      <td>42.278028000</td>\n",
       "      <td>-71.066046000</td>\n",
       "    </tr>\n",
       "    <tr>\n",
       "      <th>4</th>\n",
       "      <td>18086</td>\n",
       "      <td>12/27/2011 12:46</td>\n",
       "      <td>12/31/2011 23:59</td>\n",
       "      <td>Inactive</td>\n",
       "      <td>RF</td>\n",
       "      <td>Retail Food</td>\n",
       "      <td>HE_Fail</td>\n",
       "      <td>1/3/2012 10:06</td>\n",
       "      <td>23-4-602.13</td>\n",
       "      <td>*</td>\n",
       "      <td>Non-Food Contact Surfaces Clean</td>\n",
       "      <td>1/3/2012 10:06</td>\n",
       "      <td>Fail</td>\n",
       "      <td>14788.0</td>\n",
       "      <td>(42.382370000, -71.018390000)</td>\n",
       "      <td>42.382370000</td>\n",
       "      <td>-71.018390000</td>\n",
       "    </tr>\n",
       "  </tbody>\n",
       "</table>\n",
       "</div>"
      ],
      "text/plain": [
       "   licenseno           issdttm           expdttm licstatus licensecat  \\\n",
       "0      77958    3/14/2012 9:17  12/31/2012 23:59  Inactive         FT   \n",
       "1      74470    2/1/2012 12:29  12/31/2018 23:59    Active         FS   \n",
       "2      74470    2/1/2012 12:29  12/31/2018 23:59    Active         FS   \n",
       "3      74470    2/1/2012 12:29  12/31/2018 23:59    Active         FS   \n",
       "4      18086  12/27/2011 12:46  12/31/2011 23:59  Inactive         RF   \n",
       "\n",
       "                        descript    result      resultdttm        violation  \\\n",
       "0  Eating & Drinking w/ Take Out   HE_Pass   1/3/2012 7:26              NaN   \n",
       "1              Eating & Drinking  HE_Filed   1/3/2012 9:42      15-4-202.16   \n",
       "2              Eating & Drinking  HE_Filed   1/3/2012 9:42  36-6-501.11-.12   \n",
       "3              Eating & Drinking  HE_Filed   1/3/2012 9:42  37-6-501.11-.12   \n",
       "4                    Retail Food   HE_Fail  1/3/2012 10:06      23-4-602.13   \n",
       "\n",
       "  viollevel                                violdesc        violdttm  \\\n",
       "0       NaN                                     NaN                   \n",
       "1         *               Non-Food Contact Surfaces   1/3/2012 9:42   \n",
       "2         *          Improper Maintenance of Floors   1/3/2012 9:42   \n",
       "3         *  Improper Maintenance of Walls/Ceilings   1/3/2012 9:42   \n",
       "4         *         Non-Food Contact Surfaces Clean  1/3/2012 10:06   \n",
       "\n",
       "  violstatus  property_id                       location           lat  \\\n",
       "0        NaN     155968.0  (42.355863000, -71.061898000)  42.355863000   \n",
       "1       Fail      48511.0  (42.278028000, -71.066046000)  42.278028000   \n",
       "2       Fail      48511.0  (42.278028000, -71.066046000)  42.278028000   \n",
       "3       Fail      48511.0  (42.278028000, -71.066046000)  42.278028000   \n",
       "4       Fail      14788.0  (42.382370000, -71.018390000)  42.382370000   \n",
       "\n",
       "            long  \n",
       "0  -71.061898000  \n",
       "1  -71.066046000  \n",
       "2  -71.066046000  \n",
       "3  -71.066046000  \n",
       "4  -71.018390000  "
      ]
     },
     "execution_count": 31,
     "metadata": {},
     "output_type": "execute_result"
    }
   ],
   "source": [
    "valid_locations.head()"
   ]
  },
  {
   "cell_type": "code",
   "execution_count": 37,
   "metadata": {
    "ExecuteTime": {
     "end_time": "2020-08-12T04:59:01.046559Z",
     "start_time": "2020-08-12T04:59:01.031228Z"
    }
   },
   "outputs": [
    {
     "data": {
      "text/plain": [
       "12160"
      ]
     },
     "execution_count": 37,
     "metadata": {},
     "output_type": "execute_result"
    }
   ],
   "source": [
    "valid_locations['viollevel'].isna().sum()"
   ]
  },
  {
   "cell_type": "code",
   "execution_count": 55,
   "metadata": {
    "ExecuteTime": {
     "end_time": "2020-08-12T05:25:01.556202Z",
     "start_time": "2020-08-12T05:25:01.528248Z"
    }
   },
   "outputs": [
    {
     "data": {
      "text/plain": [
       "*      171519\n",
       "***     40848\n",
       "**      14145\n",
       "Name: viollevel, dtype: int64"
      ]
     },
     "execution_count": 55,
     "metadata": {},
     "output_type": "execute_result"
    }
   ],
   "source": [
    "valid_locations['viollevel'].value_counts()"
   ]
  },
  {
   "cell_type": "code",
   "execution_count": 54,
   "metadata": {
    "ExecuteTime": {
     "end_time": "2020-08-12T05:24:58.264734Z",
     "start_time": "2020-08-12T05:24:58.199070Z"
    }
   },
   "outputs": [],
   "source": [
    "valid_locations = valid_locations[valid_locations['viollevel'] != \"1919\"]"
   ]
  },
  {
   "cell_type": "code",
   "execution_count": 42,
   "metadata": {
    "ExecuteTime": {
     "end_time": "2020-08-12T05:12:25.967183Z",
     "start_time": "2020-08-12T05:12:25.934752Z"
    }
   },
   "outputs": [
    {
     "data": {
      "text/plain": [
       "HE_Fail       101254\n",
       "HE_Pass        71475\n",
       "HE_Filed       27922\n",
       "HE_FailExt     19582\n",
       "HE_Hearing      9958\n",
       "HE_NotReq       5063\n",
       "HE_TSOP         2628\n",
       "HE_OutBus        488\n",
       "HE_Closure       287\n",
       "HE_FAILNOR        24\n",
       "HE_Misc           18\n",
       "Pass               2\n",
       "Name: result, dtype: int64"
      ]
     },
     "execution_count": 42,
     "metadata": {},
     "output_type": "execute_result"
    }
   ],
   "source": [
    "valid_locations['result'].value_counts()"
   ]
  },
  {
   "cell_type": "code",
   "execution_count": 45,
   "metadata": {
    "ExecuteTime": {
     "end_time": "2020-08-12T05:13:05.549662Z",
     "start_time": "2020-08-12T05:13:05.522673Z"
    }
   },
   "outputs": [
    {
     "name": "stderr",
     "output_type": "stream",
     "text": [
      "/opt/anaconda3/lib/python3.7/site-packages/ipykernel_launcher.py:1: SettingWithCopyWarning: \n",
      "A value is trying to be set on a copy of a slice from a DataFrame\n",
      "\n",
      "See the caveats in the documentation: http://pandas.pydata.org/pandas-docs/stable/user_guide/indexing.html#returning-a-view-versus-a-copy\n",
      "  \"\"\"Entry point for launching an IPython kernel.\n",
      "/opt/anaconda3/lib/python3.7/site-packages/pandas/core/generic.py:9114: SettingWithCopyWarning: \n",
      "A value is trying to be set on a copy of a slice from a DataFrame\n",
      "\n",
      "See the caveats in the documentation: http://pandas.pydata.org/pandas-docs/stable/user_guide/indexing.html#returning-a-view-versus-a-copy\n",
      "  self._update_inplace(new_data)\n",
      "/opt/anaconda3/lib/python3.7/site-packages/IPython/core/interactiveshell.py:3326: SettingWithCopyWarning: \n",
      "A value is trying to be set on a copy of a slice from a DataFrame\n",
      "\n",
      "See the caveats in the documentation: http://pandas.pydata.org/pandas-docs/stable/user_guide/indexing.html#returning-a-view-versus-a-copy\n",
      "  exec(code_obj, self.user_global_ns, self.user_ns)\n"
     ]
    }
   ],
   "source": [
    "valid_locations['result'][valid_locations['result'] == \"Pass\"] = \"HE_Pass\" "
   ]
  },
  {
   "cell_type": "code",
   "execution_count": 46,
   "metadata": {
    "ExecuteTime": {
     "end_time": "2020-08-12T05:13:06.872887Z",
     "start_time": "2020-08-12T05:13:06.844344Z"
    }
   },
   "outputs": [
    {
     "data": {
      "text/plain": [
       "HE_Fail       101254\n",
       "HE_Pass        71477\n",
       "HE_Filed       27922\n",
       "HE_FailExt     19582\n",
       "HE_Hearing      9958\n",
       "HE_NotReq       5063\n",
       "HE_TSOP         2628\n",
       "HE_OutBus        488\n",
       "HE_Closure       287\n",
       "HE_FAILNOR        24\n",
       "HE_Misc           18\n",
       "Name: result, dtype: int64"
      ]
     },
     "execution_count": 46,
     "metadata": {},
     "output_type": "execute_result"
    }
   ],
   "source": [
    "valid_locations['result'].value_counts()"
   ]
  },
  {
   "cell_type": "code",
   "execution_count": 50,
   "metadata": {
    "ExecuteTime": {
     "end_time": "2020-08-12T05:18:12.483903Z",
     "start_time": "2020-08-12T05:18:12.353364Z"
    }
   },
   "outputs": [],
   "source": [
    "valid_locations = valid_locations[valid_locations['result'] != \"HE_Misc\"]\n",
    "valid_locations = valid_locations[valid_locations['result'] != \"HE_FAILNOR\"]"
   ]
  },
  {
   "cell_type": "code",
   "execution_count": 52,
   "metadata": {
    "ExecuteTime": {
     "end_time": "2020-08-12T05:18:20.258632Z",
     "start_time": "2020-08-12T05:18:20.228714Z"
    }
   },
   "outputs": [
    {
     "data": {
      "text/plain": [
       "HE_Fail       101254\n",
       "HE_Pass        71477\n",
       "HE_Filed       27922\n",
       "HE_FailExt     19582\n",
       "HE_Hearing      9958\n",
       "HE_NotReq       5063\n",
       "HE_TSOP         2628\n",
       "HE_OutBus        488\n",
       "HE_Closure       287\n",
       "Name: result, dtype: int64"
      ]
     },
     "execution_count": 52,
     "metadata": {},
     "output_type": "execute_result"
    }
   ],
   "source": [
    "valid_locations['result'].value_counts()"
   ]
  },
  {
   "cell_type": "code",
   "execution_count": 56,
   "metadata": {
    "ExecuteTime": {
     "end_time": "2020-08-12T05:43:53.171703Z",
     "start_time": "2020-08-12T05:43:53.133045Z"
    }
   },
   "outputs": [
    {
     "data": {
      "text/plain": [
       "Fail    126218\n",
       "Pass    100109\n",
       "           185\n",
       "Name: violstatus, dtype: int64"
      ]
     },
     "execution_count": 56,
     "metadata": {},
     "output_type": "execute_result"
    }
   ],
   "source": [
    "valid_locations['violstatus'].value_counts()"
   ]
  },
  {
   "cell_type": "code",
   "execution_count": 53,
   "metadata": {
    "ExecuteTime": {
     "end_time": "2020-08-12T05:18:41.883598Z",
     "start_time": "2020-08-12T05:18:39.928828Z"
    }
   },
   "outputs": [],
   "source": [
    "valid_locations.to_csv(\"./data/violations_locations.csv\", index = False)"
   ]
  },
  {
   "cell_type": "code",
   "execution_count": null,
   "metadata": {},
   "outputs": [],
   "source": []
  }
 ],
 "metadata": {
  "kernelspec": {
   "display_name": "Python 3",
   "language": "python",
   "name": "python3"
  },
  "language_info": {
   "codemirror_mode": {
    "name": "ipython",
    "version": 3
   },
   "file_extension": ".py",
   "mimetype": "text/x-python",
   "name": "python",
   "nbconvert_exporter": "python",
   "pygments_lexer": "ipython3",
   "version": "3.7.4"
  }
 },
 "nbformat": 4,
 "nbformat_minor": 2
}
